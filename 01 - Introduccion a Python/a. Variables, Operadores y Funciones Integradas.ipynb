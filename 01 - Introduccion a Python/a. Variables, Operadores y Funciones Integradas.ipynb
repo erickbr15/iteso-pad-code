{
 "cells": [
  {
   "cell_type": "markdown",
   "metadata": {},
   "source": [
    "<div class=\"alert alert-block alert-info\">\n",
    "<img src=\"./Imagenes/ITESO_Logo.png\" style=\"width:500px;height:142px;\" title=\"Logo ITESO\">\n",
    "<br><font face = \"Times New Roman\" size = \"6\"><b><center>Maestría en Sistemas Computacionales</center></b></font>\n",
    "<br><font face = \"Times New Roman\" size = \"5\"><b><center>Programación para Análisis de Datos</center></b></font>\n",
    "\n",
    "<b><br><font face = \"Times New Roman\" size = \"4\"><center>Unidad 2: Conceptos Generales</center></font>\n",
    "<font face = \"Times New Roman\" size = \"4\"><center>Tema 2.1: Programación en Python como Herramienta de Desarrollo</center></font>\n",
    "<font face = \"Times New Roman\" size = \"4\"><center>Subtema a: Variables, Operadores y Funciones Integradas</center></font></b>\n",
    "</div>"
   ]
  },
  {
   "cell_type": "markdown",
   "metadata": {},
   "source": [
    "## Programación en Python como Herramienta de Desarrollo\n",
    "<img src=\"./Imagenes/Python_logo.png\" style=\"width:457px;height:120px;\" title=\"Logo Python\">\n",
    "\n",
    "**Python** es un lenguaje de scripting independiente de plataforma y orientado a objetos, preparado para realizar cualquier tipo de programa, desde aplicaciones Windows a servidores de red o, incluso, páginas web. Es un lenguaje interpretado, lo que significa que no se necesita compilar el código fuente para poder ejecutarlo, lo que ofrece ventajas como la rapidez de desarrollo e inconvenientes como una menor velocidad.\n",
    "\n",
    "En los últimos años el lenguaje se ha hecho muy popular, gracias a varias razones como:\n",
    "* La cantidad de librerías que contiene, tipos de datos y funciones incorporadas en el propio lenguaje, que ayudan a realizar muchas tareas habituales sin necesidad de tener que programarlas desde cero.\n",
    "* La sencillez y velocidad con la que se crean los programas. Un programa en **Python** puede tener de 3 a 5 líneas de código menos que su equivalente en Java o C.\n",
    "* La cantidad de plataformas en las que se puede desarrollar, como Windows, macOS, Linux, entre otros.\n",
    "* Además, **Python** es gratuito, incluso para propósitos empresariales.\n",
    "\n",
    "El portal oficial de **Python** puede consultarse [en esta liga](https://www.python.org), y su documentación asociada puede consultarse a través [de esta liga](https://www.python.org/doc).\n",
    "\n",
    "### ¿De dónde viene Python?\n",
    "\n",
    "El creador del lenguaje es ***Guido Van Rossum***. Hace ya más de una década que diseñó **Python**, ayudado y motivado por su experiencia en la creación de otro lenguaje llamado **ABC**. El objetivo de Guido era cubrir la necesidad de un lenguaje orientado a objetos de sencillo uso que sirviese para tratar diversas tareas dentro de la programación que habitualmente se hacía en Unix usando **C**. \n",
    "\n",
    "El desarrollo de **Python** duró varios años, durante los que trabajó en diversas compañías de Estados Unidos. En el año 2000 ya disponía de un producto bastante completo y un equipo de desarrollo con el que se había asociado incluso en proyectos empresariales.\n",
    "\n",
    "### Características de Python\n",
    "\n",
    "**Propósito general**:\n",
    "<br>Se pueden crear todo tipo de programas. No es un lenguaje creado específicamente para la web, aunque entre sus posibilidades sí se encuentra el desarrollo de páginas. \n",
    "\n",
    "**Multiplataforma**:\n",
    "<br>Hay versiones disponibles de **Python** en muchos sistemas distintos. Originalmente se desarrolló para Unix, aunque cualquier sistema es compatible con el lenguaje siempre y cuando exista un intérprete programado para él. \n",
    "\n",
    "**Interpretado**:\n",
    "<br>Quiere decir que no se debe compilar el código antes de su ejecución. En realidad si se realiza una compilación, pero esta se lleva a cabo de manera transparente para el programador.  \n",
    "\n",
    "**Interactivo**: \n",
    "<br>**Python** dispone de un intérprete por línea de comandos en el que se pueden introducir sentencias. Cada sentencia se ejecuta y produce un resultado visible, que puede ayudar a entender mejor el lenguaje y probar los resultados de la ejecución de porciones de código rápidamente. \n",
    "\n",
    "**Orientado a Objetos**: \n",
    "<br>La programación orientada a objetos está soportada en **Python** y ofrece en muchos casos una manera sencilla de crear programas con componentes reutilizables. \n",
    "\n",
    "**Funciones y librerías**: \n",
    "<br>Dispone de muchas funciones incorporadas en el propio lenguaje, para el tratamiento de cadenas, números, archivos, etc. Además, existen muchas librerías que se pueden importar en los programas para tratar temas específicos. \n",
    "\n",
    "**Sintaxis clara**: \n",
    "<br>**Python** tiene una sintaxis muy visual, gracias a una notación identada de obligado cumplimiento. En muchos lenguajes, para separar porciones de código, se utilizan elementos como las llaves o las palabras clave ***begin*** y ***end***. Para separar las porciones de código en **Python** se debe tabular hacia dentro, colocando un margen al código que iría dentro de una función o un bucle. Esto ayuda a que todos los programadores adopten unas mismas notaciones y que los programas de cualquier persona tengan un aspecto muy similar. \n",
    "\n",
    "### El Zen de Python\n",
    "Es una colección de 19 principios de software que influyen en el diseño del Lenguaje de Programación **Python**, fueron escritos por ***Tim Peters*** en junio de 1999. Están listados en la página oficial de **Python**, y se pueden consultar directamente [en esta liga](https://www.python.org/dev/peps/pep-0020). Sin embargo, los principios están listados a continuación:\n",
    "\n",
    "1. Bello es mejor que feo.\n",
    "2. Explícito es mejor que implícito.\n",
    "3. Simple es mejor que complejo.\n",
    "4. Complejo es mejor que complicado.\n",
    "5. Plano es mejor que anidado.\n",
    "6. Espaciado es mejor que denso.\n",
    "7. La legibilidad es importante.\n",
    "8. Los casos especiales no son lo suficientemente especiales como para romper las reglas.\n",
    "9. Sin embargo la practicidad le gana a la pureza.\n",
    "10. Los errores nunca deberían pasar silenciosamente.\n",
    "11. A menos que se silencien explícitamente.\n",
    "12. Frente a la ambigüedad, evitar la tentación de adivinar.\n",
    "13. Debería haber una, y preferiblemente solo una, manera obvia de hacerlo.\n",
    "14. A pesar de que esa manera no sea obvia a menos que seas Holandés.\n",
    "15. Ahora es mejor que nunca.\n",
    "16. A pesar de que nunca es muchas veces mejor que *ahora* mismo.\n",
    "17. Si la implementación es difícil de explicar, es una mala idea.\n",
    "18. Si la implementación es fácil de explicar, puede que sea una buena idea.\n",
    "19. Los espacios de nombres son una gran idea, ¡tengamos más de esos!"
   ]
  },
  {
   "cell_type": "markdown",
   "metadata": {},
   "source": [
    "## VARIABLES\n",
    "\n",
    "Una ***variable*** es un nombre que se utiliza para denota algo o un valor. En **Python**, las variables pueden ser declaradas y se les puede asignar un valor de la siguiente manera:"
   ]
  },
  {
   "cell_type": "code",
   "execution_count": 1,
   "metadata": {},
   "outputs": [
    {
     "name": "stdout",
     "output_type": "stream",
     "text": [
      "7 Hola\n"
     ]
    }
   ],
   "source": [
    "x = 2                              #Declaración de variable x con valor de 2\n",
    "y = 5                              #Declaración de variable y con valor de 2\n",
    "a = \"Hola\"                         #Declaración de variable a con valor de Hola\n",
    "\n",
    "#Impresión de los valores\n",
    "print(x+y, a)"
   ]
  },
  {
   "cell_type": "markdown",
   "metadata": {},
   "source": [
    "Por otro lado, múltiples variables pueden ser asignadas al mismo valor:"
   ]
  },
  {
   "cell_type": "code",
   "execution_count": 2,
   "metadata": {},
   "outputs": [
    {
     "name": "stdout",
     "output_type": "stream",
     "text": [
      "1 1\n",
      "Hola Hola\n"
     ]
    }
   ],
   "source": [
    "x = y = 1\n",
    "a = b = \"Hola\"\n",
    "\n",
    "#Impresión de los valores\n",
    "print(x,y)\n",
    "print(a,b)"
   ]
  },
  {
   "cell_type": "markdown",
   "metadata": {},
   "source": [
    "## OPERADORES\n",
    "\n",
    "### Operadores Aritméticos:\n",
    "Los operadores aritméticos empleados en **Python** se muestran en la siguiente tabla:\n",
    "\n",
    "| Símbolo: | Tarea que Realiza: |\n",
    "|----|---|\n",
    "| +  | Suma |\n",
    "| -  | Resta |\n",
    "| *  | Multiplicación |\n",
    "| /  | División |\n",
    "| //  | Cociente |\n",
    "| %  | Residuo |\n",
    "| **  | Potencia |"
   ]
  },
  {
   "cell_type": "code",
   "execution_count": 3,
   "metadata": {},
   "outputs": [
    {
     "name": "stdout",
     "output_type": "stream",
     "text": [
      "El resultado de a+b es: 13\n",
      "El resultado de a-b es: 5\n",
      "El resultado de a*b es: 36\n",
      "El resultado de a/b es: 2.25\n",
      "El resultado de a//b es: 2\n",
      "El resultado de a%b es: 1\n",
      "El resultado de a**b es: 6561\n"
     ]
    }
   ],
   "source": [
    "#Definición de valores\n",
    "a = 9\n",
    "b = 4\n",
    "\n",
    "#Operaciones aritméticas entre los valores\n",
    "op1 = a+b\n",
    "op2 = a-b\n",
    "op3 = a*b\n",
    "op4 = a/b\n",
    "op5 = a//b\n",
    "op6 = a%b\n",
    "op7 = a**b\n",
    "\n",
    "#Impresión de los resultados\n",
    "print(\"El resultado de a+b es:\", op1)\n",
    "print(\"El resultado de a-b es:\", op2)\n",
    "print(\"El resultado de a*b es:\", op3)\n",
    "print(\"El resultado de a/b es:\", op4)\n",
    "print(\"El resultado de a//b es:\", op5)\n",
    "print(\"El resultado de a%b es:\", op6)\n",
    "print(\"El resultado de a**b es:\", op7)"
   ]
  },
  {
   "cell_type": "markdown",
   "metadata": {},
   "source": [
    "### Operadores Relacionales:\n",
    "Los operadores relacionales empleados en **Python** se muestran en la siguiente tabla:\n",
    "\n",
    "| Símbolo: | Tarea que Realiza: |\n",
    "|----|---|\n",
    "| == | Verdadero, si es igual |\n",
    "| !=  | Verdadero, si no es igual |\n",
    "| < | menor que |\n",
    "| > | mayor que |\n",
    "| <=  | menor o igual a |\n",
    "| >=  | mayor o igual a |"
   ]
  },
  {
   "cell_type": "code",
   "execution_count": 4,
   "metadata": {},
   "outputs": [
    {
     "name": "stdout",
     "output_type": "stream",
     "text": [
      "Es z igual a 1: True\n",
      "Es z mayor a 1: False\n"
     ]
    }
   ],
   "source": [
    "#Definición de valores\n",
    "z = 1\n",
    "\n",
    "#Operaciones relacionales\n",
    "print(\"Es z igual a 1:\", z==1)\n",
    "print(\"Es z mayor a 1:\", z>1)"
   ]
  },
  {
   "cell_type": "markdown",
   "metadata": {},
   "source": [
    "## FUNCIONES INTEGRADAS\n",
    "\n",
    "**Python** contiene un gran número de funciones integradas, entre ellas se pueden enumerar las siguientes:\n",
    "\n",
    "### Sistemas Numéricos:\n",
    "Algunas operaciones que se pueden realizar entre sistemas numéricos empleando las funciones integradas de **Python** se muestran a continuación.\n",
    "\n",
    "1. Para obtener un valor en su equivalente binario se emplea la función `bin()`.\n",
    "2. Para obtener un valor en su equivalente hexadecimal se emplea la función `hex()`.\n",
    "3. Para obtener un valor en su equivalente octal se emplea la función `oct()`.\n",
    "\n",
    "***Nota:*** En los sistemas numéricos se debe considerar que:\n",
    "* Los valores en binario comienzan con el prefijo ***0b***.\n",
    "* Los valores en hexadecimal comienzan con el prefijo ***0x***.\n",
    "* Los valores en octal comienzan con el prefijo ***0o***."
   ]
  },
  {
   "cell_type": "code",
   "execution_count": 5,
   "metadata": {},
   "outputs": [
    {
     "name": "stdout",
     "output_type": "stream",
     "text": [
      "El valor 100 en decimal corresponde en binario a: 0b1100100\n",
      "El valor 100 en decimal corresponde en hexadecimal a: 0x64\n",
      "El valor 100 en decimal corresponde en octal a: 0o144\n"
     ]
    }
   ],
   "source": [
    "#Definición de valores\n",
    "v_dec = 100\n",
    "\n",
    "#Conversión a sistemas numéricos\n",
    "v_bin = bin(v_dec)\n",
    "v_hex = hex(v_dec)\n",
    "v_oct = oct(v_dec)\n",
    "\n",
    "#Impresión de los resultados\n",
    "print(\"El valor 100 en decimal corresponde en binario a:\", v_bin)\n",
    "print(\"El valor 100 en decimal corresponde en hexadecimal a:\", v_hex)\n",
    "print(\"El valor 100 en decimal corresponde en octal a:\", v_oct)"
   ]
  },
  {
   "cell_type": "markdown",
   "metadata": {},
   "source": [
    "Existen otras funciones de amplia utilidad:\n",
    "\n",
    "* La función `int()` acepta dos argumentos, el primero es el valor en un sistema numérico específico y el segundo es la base del sistema al que se quiere hacer su conversión.\n",
    "* Por otro lado, la función `int()` también sirve para regresar el valor entero de un número flotante cuando solo tiene un argumento\n",
    "* Adicionalmente, la función `int()` regresa el equivalente entero de un valor tipo cadena cuando se emplea como su argumento.\n",
    "* La operación contraria a este último ejemplo es la función `str()` que regresa un valor tipo cadena de un valor que sea ingresado como su argumento.\n",
    "* La función `float()` convierte en valor flotante el valor que se haya introducido como su argumento.\n",
    "* La función `chr()` regresa el símbolo del código ASCII correspondiente al valor que se haya introducido como su argumento.\n",
    "* De manera similar, la función `ord()` regresa el valor correspondiente al símbolo del código ASCII que se haya introducido como su argumento.\n",
    "\n",
    "Esto se puede ejemplificar de la siguiente manera:"
   ]
  },
  {
   "cell_type": "code",
   "execution_count": 6,
   "metadata": {},
   "outputs": [
    {
     "name": "stdout",
     "output_type": "stream",
     "text": [
      "La conversión de 100 a base hexadecimal es: 256\n",
      "La conversión de 100 a base octal es: 64\n",
      "La conversión de 100 a base 24 es: 576\n",
      "La parte entera de 467.34 es: 467\n",
      "La parte entera de la cadena 125 es: 125\n",
      "El número 467.34 con formato de cadena es: 467.34\n",
      "El número 764 con formato de número flotante es: 764.0\n",
      "El símbolo del código ASCII con valor 68 es: D\n",
      "El valor del símbolo I en el código ASCII es: 73\n"
     ]
    }
   ],
   "source": [
    "#Definición de valores\n",
    "a = 467.34\n",
    "b = \"125\"\n",
    "c = 764\n",
    "d = 68\n",
    "e = \"I\"\n",
    "\n",
    "#Impresión de los resultados\n",
    "print(\"La conversión de 100 a base hexadecimal es:\", int('100', 16))\n",
    "print(\"La conversión de 100 a base octal es:\", int('100', 8))\n",
    "print(\"La conversión de 100 a base 24 es:\", int('100', 24))\n",
    "print(\"La parte entera de 467.34 es:\", int(a))\n",
    "print(\"La parte entera de la cadena\", b, \"es:\", int(b))\n",
    "print(\"El número\", a, \"con formato de cadena es:\", str(a))\n",
    "print(\"El número\", c, \"con formato de número flotante es:\", float(c))\n",
    "print(\"El símbolo del código ASCII con valor\", d, \"es:\", chr(d))\n",
    "print(\"El valor del símbolo\", e, \"en el código ASCII es:\", ord(e))"
   ]
  },
  {
   "cell_type": "markdown",
   "metadata": {},
   "source": [
    "### Simplificación de Operaciones Aritméticas:\n",
    "\n",
    "La función `round()` redondea un valor al entero más próximo, recibe dos valores en su argumento donde el primero es el valor a redondear y el segundo indica la cantidad de decimales a emplear (el valor por defecto es 0):"
   ]
  },
  {
   "cell_type": "code",
   "execution_count": 7,
   "metadata": {
    "scrolled": false
   },
   "outputs": [
    {
     "name": "stdout",
     "output_type": "stream",
     "text": [
      "6\n",
      "4.56\n"
     ]
    }
   ],
   "source": [
    "print(round(5.6231))\n",
    "print(round(4.55892, 2))"
   ]
  },
  {
   "cell_type": "markdown",
   "metadata": {},
   "source": [
    "La función `complex()` es empleada para definir un número complejo empleando la letra `j` para la parte imaginaria, mientras que la función `abs()` proporciona su magnitud."
   ]
  },
  {
   "cell_type": "code",
   "execution_count": 8,
   "metadata": {},
   "outputs": [
    {
     "name": "stdout",
     "output_type": "stream",
     "text": [
      "La magnitud del número complejo (5+2j) es: 5.385164807134504\n"
     ]
    }
   ],
   "source": [
    "#Definición de valores\n",
    "c = complex('5+2j')\n",
    "\n",
    "#Impresión de los resultados\n",
    "print(\"La magnitud del número complejo\", c, \"es:\", abs(c))"
   ]
  },
  {
   "cell_type": "markdown",
   "metadata": {},
   "source": [
    "La función `pow(x,y)` es empleada para determinar la potencia `y` del número `x`, similar a $x^y$."
   ]
  },
  {
   "cell_type": "code",
   "execution_count": 9,
   "metadata": {
    "scrolled": true
   },
   "outputs": [
    {
     "name": "stdout",
     "output_type": "stream",
     "text": [
      "81\n"
     ]
    }
   ],
   "source": [
    "print(pow(3,4))"
   ]
  },
  {
   "cell_type": "markdown",
   "metadata": {},
   "source": [
    "<div class=\"alert alert-block alert-success\">\n",
    "<b>.: Fin del Subtema :.</b>\n",
    "</div>\n",
    "\n",
    "***Liga de aceso al siguiente Subtema:*** \n",
    "<br>[b. Impresión y Precisión](b.%20Impresion%20y%20Precision.ipynb)"
   ]
  }
 ],
 "metadata": {
  "kernelspec": {
   "display_name": "Python 3",
   "language": "python",
   "name": "python3"
  },
  "language_info": {
   "codemirror_mode": {
    "name": "ipython",
    "version": 3
   },
   "file_extension": ".py",
   "mimetype": "text/x-python",
   "name": "python",
   "nbconvert_exporter": "python",
   "pygments_lexer": "ipython3",
   "version": "3.8.3"
  }
 },
 "nbformat": 4,
 "nbformat_minor": 1
}
