{
 "cells": [
  {
   "cell_type": "markdown",
   "metadata": {},
   "source": [
    "<div class=\"alert alert-block alert-info\">\n",
    "<img src=\"./Imagenes/ITESO_Logo.png\" style=\"width:500px;height:142px;\" title=\"Logo ITESO\">\n",
    "<br><font face = \"Times New Roman\" size = \"6\"><b><center>Maestría en Sistemas Computacionales</center></b></font>\n",
    "<br><font face = \"Times New Roman\" size = \"5\"><b><center>Programación para Análisis de Datos</center></b></font>\n",
    "\n",
    "<b><br><font face = \"Times New Roman\" size = \"4\"><center>Unidad 2: Conceptos Generales</center></font>\n",
    "<font face = \"Times New Roman\" size = \"4\"><center>Tema 2.1: Programación en Python como Herramienta de Desarrollo</center></font>\n",
    "<font face = \"Times New Roman\" size = \"4\"><center>Subtema e: Funciones</center></font></b>\n",
    "</div>"
   ]
  },
  {
   "cell_type": "markdown",
   "metadata": {},
   "source": [
    "## FUNCIONES\n",
    "\n",
    "En la mayoría de las ocasiones, dentro de un algoritmo hay ciertos grupos de instrucciones que se repiten un cierto número de veces y llega a ser algo tedioso cuando se deben ejecutar esos mismos grupos de instrucciones en diversas partes del código, esto consume mucha memoria y no es eficiente en su ejecución. Para este caso, se emplean las ***Funciones***, cuya sintaxis básica es:\n",
    "\n",
    "`def nombre_funcion(argumento1, argumento2, ..., argumentoN):\n",
    "    ''' Descripción de la función '''\n",
    "    algoritmo de ejecución\n",
    "    return <valores>`\n",
    "\n",
    "Para entenderlo mejor, la ***Función*** llamada *nombre_funcion* se define por `def` y recibe los argumentos *argumento1, argumento2, ..., argumentoN*. Puede ser documentada con el texto definido como *''' Descripción de la función '''*, y el resultado que se obtiene después de realizar el *algoritmo de ejecución* se describe por la función `return`.\n",
    "\n",
    "Un primer ejemplo es el siguiente, donde se define una función que recibirá una cadena con un nombre de una persona, y regresará un enunciado con dicho nombre. Primeramente se define la función:"
   ]
  },
  {
   "cell_type": "code",
   "execution_count": 1,
   "metadata": {},
   "outputs": [],
   "source": [
    "#Definición de una función\n",
    "def funcion1(nombre):\n",
    "    print(\"¡Hola\", nombre + '!')"
   ]
  },
  {
   "cell_type": "markdown",
   "metadata": {},
   "source": [
    "Ahora definimos una ***Lista*** que contenga varios nombres, y mandamos llamar a `funcion1` para cada uno de ellos:"
   ]
  },
  {
   "cell_type": "code",
   "execution_count": 2,
   "metadata": {},
   "outputs": [
    {
     "name": "stdout",
     "output_type": "stream",
     "text": [
      "¡Hola Maria!\n",
      "¡Hola Iván!\n",
      "¡Hola Jorge!\n",
      "¡Hola Omar!\n",
      "¡Hola Dulce!\n"
     ]
    }
   ],
   "source": [
    "#Definición de una lista de nombres\n",
    "nombres = ['Maria', 'Iván', 'Jorge', 'Omar', 'Dulce']\n",
    "\n",
    "#Llamado a la función para cada elemento de la lista\n",
    "for i in nombres:\n",
    "    funcion1(i)"
   ]
  },
  {
   "cell_type": "markdown",
   "metadata": {},
   "source": [
    "Cuando la ***Función*** generará un valor que debe ser almacenado en una variable o debe emplearse desde donde se mandó llamar a la misma, se emplea la función `return` para este efecto. \n",
    "\n",
    "A manera de ejemplo definimos una **Función** que recibe dos valores en su argumento, los cuales va a multiplicar entre ellos y regresará el resultado:"
   ]
  },
  {
   "cell_type": "code",
   "execution_count": 3,
   "metadata": {},
   "outputs": [],
   "source": [
    "#Definición de una función\n",
    "def funcion2(x,y):\n",
    "    z = x * y\n",
    "    return z"
   ]
  },
  {
   "cell_type": "markdown",
   "metadata": {},
   "source": [
    "Ahora llamamos a la **Función** enviando los dos valores como los parámetros requeridos y almacenando el resultado en una variable:"
   ]
  },
  {
   "cell_type": "code",
   "execution_count": 4,
   "metadata": {},
   "outputs": [
    {
     "name": "stdout",
     "output_type": "stream",
     "text": [
      "El resultado es: 20\n"
     ]
    }
   ],
   "source": [
    "#Llamado a la función\n",
    "c = funcion2(4,5)\n",
    "print(\"El resultado es:\", c)"
   ]
  },
  {
   "cell_type": "markdown",
   "metadata": {},
   "source": [
    "En este caso, como la operación fue sencilla, se puede omitir la asignación del valor a la variable `z` dentro de la ***Función***, la cual queda como:"
   ]
  },
  {
   "cell_type": "code",
   "execution_count": 5,
   "metadata": {},
   "outputs": [],
   "source": [
    "#Definición de una función\n",
    "def funcion3(x,y):\n",
    "    '''Esta función regresa el valor de la multiplicación de dos números.'''\n",
    "    return x * y"
   ]
  },
  {
   "cell_type": "markdown",
   "metadata": {},
   "source": [
    "Nuevamente llamamos a la **Función** enviando los dos valores como los parámetros requeridos y almacenando el resultado en una variable:"
   ]
  },
  {
   "cell_type": "code",
   "execution_count": 6,
   "metadata": {},
   "outputs": [
    {
     "name": "stdout",
     "output_type": "stream",
     "text": [
      "El resultado es: 20\n"
     ]
    }
   ],
   "source": [
    "#Llamado a la función\n",
    "c = funcion3(4,5)\n",
    "print(\"El resultado es:\", c)"
   ]
  },
  {
   "cell_type": "markdown",
   "metadata": {},
   "source": [
    "Para la ***Función*** `funcion3` se definió una descripción opcional, la cual puede ser consultada empleando la función `help()` de la siguiente manera: "
   ]
  },
  {
   "cell_type": "code",
   "execution_count": 7,
   "metadata": {},
   "outputs": [
    {
     "name": "stdout",
     "output_type": "stream",
     "text": [
      "Help on function funcion3 in module __main__:\n",
      "\n",
      "funcion3(x, y)\n",
      "    Esta función regresa el valor de la multiplicación de dos números.\n",
      "\n"
     ]
    }
   ],
   "source": [
    "#Descripción de la función\n",
    "help(funcion3)"
   ]
  },
  {
   "cell_type": "markdown",
   "metadata": {},
   "source": [
    "También se pueden regresar los valores de múltiples variables, pero deben definirse con cuidado ya que el orden tiene importancia. Por ejemplo, se define la siguiente ***Función***:"
   ]
  },
  {
   "cell_type": "code",
   "execution_count": 8,
   "metadata": {},
   "outputs": [],
   "source": [
    "#Definición de una función\n",
    "def funcion4(lista):\n",
    "    mayor = max(lista)\n",
    "    menor = min(lista)\n",
    "    primero = lista[0]\n",
    "    ultimo = lista[-1]\n",
    "    return mayor, menor, primero, ultimo"
   ]
  },
  {
   "cell_type": "markdown",
   "metadata": {},
   "source": [
    "Ahora definimos una ***Lista*** que contenga varios valores, y mandamos llamar a `funcion4` con toda esa lista:"
   ]
  },
  {
   "cell_type": "code",
   "execution_count": 9,
   "metadata": {},
   "outputs": [
    {
     "name": "stdout",
     "output_type": "stream",
     "text": [
      "El valor mayor es: 100\n",
      "El valor menor es: 6\n",
      "El primer valor es: 10\n",
      "El último valor es: 100\n"
     ]
    }
   ],
   "source": [
    "#Definición de una lista de valores\n",
    "lista = [10, 50, 30, 12, 6, 8, 100]\n",
    "\n",
    "#Llamado a la función\n",
    "a, b, c, d = funcion4(lista)\n",
    "\n",
    "#Impresión de resultados:\n",
    "print(\"El valor mayor es:\", a)\n",
    "print(\"El valor menor es:\", b)\n",
    "print(\"El primer valor es:\", c)\n",
    "print(\"El último valor es:\", d)"
   ]
  },
  {
   "cell_type": "markdown",
   "metadata": {},
   "source": [
    "### Funciones Lambda\n",
    "Hay pequeñas ***Funciones*** que no están definidas por ningún nombre y se componen por una simple expresión cuyo valor es regresado, y se les conoce como ***Funciones Lambda*** que son de mucha utilidad cuando se manejan ***Listas***. Su sintaxis es sencilla:\n",
    "\n",
    "`lambda variables: expresión`\n",
    "\n",
    "Por ejemplo, se define una ***Función Lambda*** que realiza la multiplicación de un número por sí mismo y se almacena el resultado en una variable, esto es:"
   ]
  },
  {
   "cell_type": "code",
   "execution_count": 10,
   "metadata": {},
   "outputs": [],
   "source": [
    "#Definición de una función lambda\n",
    "funcion5 = lambda x: x * x"
   ]
  },
  {
   "cell_type": "markdown",
   "metadata": {},
   "source": [
    "Ahora se llama a la variable con el argumento que interesa emplear para la operación:"
   ]
  },
  {
   "cell_type": "code",
   "execution_count": 11,
   "metadata": {},
   "outputs": [
    {
     "name": "stdout",
     "output_type": "stream",
     "text": [
      "El resultado de la operación es: 64\n"
     ]
    }
   ],
   "source": [
    "#Llamado a la función\n",
    "res = funcion5(8)\n",
    "\n",
    "#Impresión de resultados:\n",
    "print(\"El resultado de la operación es:\", res)"
   ]
  },
  {
   "cell_type": "markdown",
   "metadata": {},
   "source": [
    "<div class=\"alert alert-block alert-success\">\n",
    "<b>.: Fin del Subtema :.</b>\n",
    "</div>\n",
    "\n",
    "***Liga de aceso al siguiente Subtema:*** \n",
    "<br>[f. Gráficos](f.%20Graficos.ipynb)"
   ]
  }
 ],
 "metadata": {
  "kernelspec": {
   "display_name": "Python 3",
   "language": "python",
   "name": "python3"
  },
  "language_info": {
   "codemirror_mode": {
    "name": "ipython",
    "version": 3
   },
   "file_extension": ".py",
   "mimetype": "text/x-python",
   "name": "python",
   "nbconvert_exporter": "python",
   "pygments_lexer": "ipython3",
   "version": "3.8.3"
  }
 },
 "nbformat": 4,
 "nbformat_minor": 1
}
