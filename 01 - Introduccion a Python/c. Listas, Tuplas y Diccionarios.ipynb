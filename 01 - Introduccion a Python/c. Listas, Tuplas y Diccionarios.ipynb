{
 "cells": [
  {
   "cell_type": "markdown",
   "metadata": {},
   "source": [
    "<div class=\"alert alert-block alert-info\">\n",
    "<img src=\"./Imagenes/ITESO_Logo.png\" style=\"width:500px;height:142px;\" title=\"Logo ITESO\">\n",
    "<br><font face = \"Times New Roman\" size = \"6\"><b><center>Maestría en Sistemas Computacionales</center></b></font>\n",
    "<br><font face = \"Times New Roman\" size = \"5\"><b><center>Programación para Análisis de Datos</center></b></font>\n",
    "\n",
    "<b><br><font face = \"Times New Roman\" size = \"4\"><center>Unidad 2: Conceptos Generales</center></font>\n",
    "<font face = \"Times New Roman\" size = \"4\"><center>Tema 2.1: Programación en Python como Herramienta de Desarrollo</center></font>\n",
    "<font face = \"Times New Roman\" size = \"4\"><center>Subtema c: Listas, Tuplas y Diccionarios</center></font></b>\n",
    "</div>"
   ]
  },
  {
   "cell_type": "markdown",
   "metadata": {},
   "source": [
    "## Listas\n",
    "\n",
    "En **Python**, las estructuras de datos son las colecciones o grupos de datos que tienen una estructura en particular. \n",
    "\n",
    "Las ***Listas*** son una de las estructuras más comúnmente empleadas. Son secuencias de datos que están contenidas entre corchetes, los cuales se separan mediante comas. Cada uno de los valores individuales puede ser accedido mentiante el uso de su valor de índice (*index value*).\n",
    "\n",
    "Las ***Listas*** son declaradas de la siguiente manera, donde la función `type()` se emplea para indicar el tipo de valor contenido en la variable:"
   ]
  },
  {
   "cell_type": "code",
   "execution_count": 1,
   "metadata": {},
   "outputs": [
    {
     "name": "stdout",
     "output_type": "stream",
     "text": [
      "<class 'list'>\n"
     ]
    }
   ],
   "source": [
    "#Definición de valores\n",
    "lista = []\n",
    "\n",
    "#Impresión de los resultados\n",
    "print(type(lista))"
   ]
  },
  {
   "cell_type": "markdown",
   "metadata": {},
   "source": [
    "Se pueden asignar los valores a la lista de manera directa separando con comas.\n",
    "\n",
    "***Nota:*** Los valores contenidos en una lista pueden ser de distinto formato."
   ]
  },
  {
   "cell_type": "code",
   "execution_count": 2,
   "metadata": {},
   "outputs": [
    {
     "name": "stdout",
     "output_type": "stream",
     "text": [
      "['manzana', 'naranja', 45, 36.5]\n"
     ]
    }
   ],
   "source": [
    "#Definición de valores\n",
    "lista = ['manzana', 'naranja', 45, 36.5]\n",
    "\n",
    "#Impresión de los resultados\n",
    "print(lista)"
   ]
  },
  {
   "cell_type": "markdown",
   "metadata": {},
   "source": [
    "### Indexado de una Lista:\n",
    "En **Python**, el indexado comienza desde el valor `0`. Para el ejemplo previo, *manzana* se ubica en la posición *0* mientras que *36.5* se ubica en la posición *3*, lo que denota que la ***Lista*** contiene 4 elementos. \n",
    "\n",
    "Para accederlos, simplemente se indica en el corchete el valor al cual se desea accesar:"
   ]
  },
  {
   "cell_type": "code",
   "execution_count": 3,
   "metadata": {},
   "outputs": [
    {
     "name": "stdout",
     "output_type": "stream",
     "text": [
      "El segundo valor de la lista es: naranja\n"
     ]
    }
   ],
   "source": [
    "#Impresión de los resultados\n",
    "print(\"El segundo valor de la lista es:\" ,lista[1])"
   ]
  },
  {
   "cell_type": "markdown",
   "metadata": {},
   "source": [
    "El indexado se puede realizar en order inverso también. Esto es, el último elemento puede ser accesado inicialmente. En este caso, el indexado comienza en `-1`, por lo mismo, *36.5* se ubica en la posición *-1* mientras que *manzana* se ubica en la posición *-4*:"
   ]
  },
  {
   "cell_type": "code",
   "execution_count": 4,
   "metadata": {},
   "outputs": [
    {
     "name": "stdout",
     "output_type": "stream",
     "text": [
      "El segundo valor de la lista es: naranja\n"
     ]
    }
   ],
   "source": [
    "#Impresión de los resultados\n",
    "print(\"El segundo valor de la lista es:\" ,lista[-3])"
   ]
  },
  {
   "cell_type": "markdown",
   "metadata": {},
   "source": [
    "Consideremos que tenemos dos ***Listas***, una de ellas con marcas de autos alemanes y la otra con marcas de autos americanos. Podemos crear una lista global de autos como se muestra a continuación. \n",
    "\n",
    "***Nota:*** Una ***Lista*** dentro de otra ***Lista*** se conoce como ***Listas Anidadas***."
   ]
  },
  {
   "cell_type": "code",
   "execution_count": 5,
   "metadata": {
    "scrolled": true
   },
   "outputs": [
    {
     "name": "stdout",
     "output_type": "stream",
     "text": [
      "La lista de autos es: [['Volkswagen', 'Mercedes', 'BMW'], ['Chevrolet', 'Chrysler', 'Ford']]\n"
     ]
    }
   ],
   "source": [
    "#Definición de valores\n",
    "ale = ['Volkswagen', 'Mercedes', 'BMW']\n",
    "usa = ['Chevrolet', 'Chrysler', 'Ford']\n",
    "\n",
    "#Lista Anidada\n",
    "aut = [ale, usa]\n",
    "\n",
    "#Impresión de los resultados\n",
    "print(\"La lista de autos es:\", aut)"
   ]
  },
  {
   "cell_type": "markdown",
   "metadata": {},
   "source": [
    "El indexado para la ***Lista*** `aut` podría causar confusión al ser una lista anidada. Se puede acceder al elemento `0` el cual es la lista de autos alemanes. \n",
    "\n",
    "Para acceder al elemento *Volkswagen* en `aut`, hay que acceder al elemento `0` del elemento `0`, esto es:"
   ]
  },
  {
   "cell_type": "code",
   "execution_count": 6,
   "metadata": {},
   "outputs": [
    {
     "name": "stdout",
     "output_type": "stream",
     "text": [
      "['Volkswagen', 'Mercedes', 'BMW']\n",
      "Volkswagen\n"
     ]
    }
   ],
   "source": [
    "#Impresión de los resultados\n",
    "print(aut[0])\n",
    "print(aut[0][0])"
   ]
  },
  {
   "cell_type": "markdown",
   "metadata": {},
   "source": [
    "Las ***Listas Anidadas*** pueden ser de más niveles, y el acceso a través de su índice se realiza de manera similar, por ejemplo:"
   ]
  },
  {
   "cell_type": "code",
   "execution_count": 7,
   "metadata": {},
   "outputs": [
    {
     "name": "stdout",
     "output_type": "stream",
     "text": [
      "La lista global de autos es: [[['Volkswagen', 'Mercedes', 'BMW'], ['Chevrolet', 'Chrysler', 'Ford']], [['Fiat', 'Ferrari', 'Maserati'], ['Mazda', 'Nissan', 'Honda']]]\n",
      "Volkswagen\n"
     ]
    }
   ],
   "source": [
    "#Definición de valores\n",
    "ale = ['Volkswagen', 'Mercedes', 'BMW']\n",
    "usa = ['Chevrolet', 'Chrysler', 'Ford']\n",
    "ita = ['Fiat', 'Ferrari', 'Maserati']\n",
    "jap = ['Mazda', 'Nissan', 'Honda']\n",
    "\n",
    "#Listas Anidadas\n",
    "aut1 = [ale, usa]\n",
    "aut2 = [ita, jap]\n",
    "autg = [aut1, aut2]\n",
    "\n",
    "#Impresión de los resultados\n",
    "print(\"La lista global de autos es:\", autg)\n",
    "print(autg[0][0][0])"
   ]
  },
  {
   "cell_type": "markdown",
   "metadata": {},
   "source": [
    "### Rebanadas de Listas\n",
    "El indexado permite acceder a un valor único dentro de una ***Lista***. Sin embargo, es posible acceder a una secuencia de datos en una ***Lista*** por medio de una ***Rebanada*** o ***Slicing*** de la misma. \n",
    "\n",
    "Esto se realiza por medio de los valores del índice, pero indicando el primer y el último elemento que se desea extraer o accesar. Se emplean corchetes como `[a:b]`, donde *a* y *b* son los índices de inicio y fin de la rebanada. Si *a* o *b* no son definidos, se considera que serán el primer y último valor, respectivamente.\n",
    "\n",
    "***Nota:*** El valor correspondiente al índice *b* no será considerado.\n",
    "\n",
    "Esto es:"
   ]
  },
  {
   "cell_type": "code",
   "execution_count": 8,
   "metadata": {},
   "outputs": [
    {
     "name": "stdout",
     "output_type": "stream",
     "text": [
      "[2, 3, 4]\n",
      "[4, 5, 6, 7, 8, 9]\n",
      "[0, 1, 2, 3]\n",
      "[8, 9]\n"
     ]
    }
   ],
   "source": [
    "#Definición de valores\n",
    "num = [0,1,2,3,4,5,6,7,8,9]\n",
    "\n",
    "#Impresión de los resultados\n",
    "print(num[2:5])\n",
    "print(num[4:])\n",
    "print(num[:4])\n",
    "print(num[-2:])"
   ]
  },
  {
   "cell_type": "markdown",
   "metadata": {},
   "source": [
    "### Funciones\n",
    "Para determinar la longitud de una ***Lista*** se emplea la función `len()` de la siguiente manera:"
   ]
  },
  {
   "cell_type": "code",
   "execution_count": 9,
   "metadata": {},
   "outputs": [
    {
     "name": "stdout",
     "output_type": "stream",
     "text": [
      "La longitud de la lista \"ale\" es: 3\n",
      "La longitud de la lista \"aut\" es: 2\n"
     ]
    }
   ],
   "source": [
    "#Impresión de los resultados\n",
    "print(\"La longitud de la lista \\\"ale\\\" es:\", len(ale))\n",
    "print(\"La longitud de la lista \\\"aut\\\" es:\", len(aut))"
   ]
  },
  {
   "cell_type": "markdown",
   "metadata": {},
   "source": [
    "Si la lista es numérica, se puede determinar su valor mínimo y máximo con  las funciones `min()` y `max()`, respectivamente:"
   ]
  },
  {
   "cell_type": "code",
   "execution_count": 10,
   "metadata": {},
   "outputs": [
    {
     "name": "stdout",
     "output_type": "stream",
     "text": [
      "El valor mínimo de la lista \"num\" es: 0\n",
      "El valor máximo de la lista \"num\" es: 9\n"
     ]
    }
   ],
   "source": [
    "#Impresión de los resultados\n",
    "print(\"El valor mínimo de la lista \\\"num\\\" es:\", min(num))\n",
    "print(\"El valor máximo de la lista \\\"num\\\" es:\", max(num))"
   ]
  },
  {
   "cell_type": "markdown",
   "metadata": {},
   "source": [
    "Las ***Listas*** pueden ser concatenadas empleando `+`, la ventaja es que generan una ***Lista Concatenada*** y no una ***Lista Anidada***:"
   ]
  },
  {
   "cell_type": "code",
   "execution_count": 11,
   "metadata": {},
   "outputs": [
    {
     "name": "stdout",
     "output_type": "stream",
     "text": [
      "La lista Anidada es: [['Volkswagen', 'Mercedes', 'BMW'], ['Chevrolet', 'Chrysler', 'Ford']]\n",
      "La lista Concatenada es: [['Volkswagen', 'Mercedes', 'BMW', 'Chevrolet', 'Chrysler', 'Ford']]\n"
     ]
    }
   ],
   "source": [
    "#Listas Anidadas\n",
    "autA = [ale, usa]\n",
    "autC = [ale + usa]\n",
    "\n",
    "#Impresión de los resultados\n",
    "print(\"La lista Anidada es:\", autA)\n",
    "print(\"La lista Concatenada es:\", autC)"
   ]
  },
  {
   "cell_type": "markdown",
   "metadata": {},
   "source": [
    "Existe una manera de verificar si un elemento existe en una lista empleando `in`, el resultado será un valor booleano como se ejemplifica:"
   ]
  },
  {
   "cell_type": "code",
   "execution_count": 12,
   "metadata": {},
   "outputs": [
    {
     "name": "stdout",
     "output_type": "stream",
     "text": [
      "True\n",
      "False\n"
     ]
    }
   ],
   "source": [
    "#Impresión de los resultados\n",
    "print('Volkswagen' in ale)\n",
    "print('Ford' in ale)"
   ]
  },
  {
   "cell_type": "markdown",
   "metadata": {},
   "source": [
    "Se pueden agregar elementos al final de una lista por medio del método `.append()`de la siguiente manera:"
   ]
  },
  {
   "cell_type": "code",
   "execution_count": 13,
   "metadata": {},
   "outputs": [
    {
     "name": "stdout",
     "output_type": "stream",
     "text": [
      "La lista de autos alemanes es: ['Volkswagen', 'Mercedes', 'BMW', 'Audi']\n"
     ]
    }
   ],
   "source": [
    "ale.append('Audi')\n",
    "\n",
    "#Impresión de los resultados\n",
    "print(\"La lista de autos alemanes es:\", ale)"
   ]
  },
  {
   "cell_type": "markdown",
   "metadata": {},
   "source": [
    "El método `.append()`también se puede emplear para agregar toda una ***Lista*** a otra, pero el resultado será una ***Lista Anidada***. Para evitarlo, se puede emplear el método `.extend()` como se describe a continuación.\n",
    "\n",
    "***Nota:*** Se emplea el método `.copy()` para hacer una copia de la ***Lista*** de autos alemanes."
   ]
  },
  {
   "cell_type": "code",
   "execution_count": 14,
   "metadata": {},
   "outputs": [
    {
     "name": "stdout",
     "output_type": "stream",
     "text": [
      "La lista Anidada es: ['Volkswagen', 'Mercedes', 'BMW', 'Audi', ['Chevrolet', 'Chrysler', 'Ford']]\n",
      "La lista Extendida es: ['Volkswagen', 'Mercedes', 'BMW', 'Audi', 'Chevrolet', 'Chrysler', 'Ford']\n"
     ]
    }
   ],
   "source": [
    "#Listas Anidadas\n",
    "aleA = ale.copy()\n",
    "aleE = ale.copy()\n",
    "aleA.append(usa)\n",
    "aleE.extend(usa)\n",
    "\n",
    "#Impresión de los resultados\n",
    "print(\"La lista Anidada es:\", aleA)\n",
    "print(\"La lista Extendida es:\", aleE)"
   ]
  },
  {
   "cell_type": "markdown",
   "metadata": {},
   "source": [
    "Se puede eliminar un elemento de una ***Lista*** a través del método `.remove()` de la siguiente manera:"
   ]
  },
  {
   "cell_type": "code",
   "execution_count": 15,
   "metadata": {},
   "outputs": [
    {
     "name": "stdout",
     "output_type": "stream",
     "text": [
      "La lista de autos alemanes es: ['Volkswagen', 'Mercedes', 'BMW']\n"
     ]
    }
   ],
   "source": [
    "ale.remove('Audi')\n",
    "\n",
    "#Impresión de los resultados\n",
    "print(\"La lista de autos alemanes es:\", ale)"
   ]
  },
  {
   "cell_type": "markdown",
   "metadata": {},
   "source": [
    "Se puede invertir el órden en la ***Lista*** por medio del método `.reverse()` de la siguiente manera:"
   ]
  },
  {
   "cell_type": "code",
   "execution_count": 16,
   "metadata": {},
   "outputs": [
    {
     "name": "stdout",
     "output_type": "stream",
     "text": [
      "La lista de autos alemanes es: ['BMW', 'Mercedes', 'Volkswagen']\n"
     ]
    }
   ],
   "source": [
    "ale.reverse()\n",
    "\n",
    "#Impresión de los resultados\n",
    "print(\"La lista de autos alemanes es:\", ale)"
   ]
  },
  {
   "cell_type": "markdown",
   "metadata": {},
   "source": [
    "Finalmente, es posible ordenar los elementos en la ***Lista*** por medio del método `.sort()` de la siguiente manera:"
   ]
  },
  {
   "cell_type": "code",
   "execution_count": 17,
   "metadata": {},
   "outputs": [
    {
     "name": "stdout",
     "output_type": "stream",
     "text": [
      "La lista de autos alemanes es: ['BMW', 'Mercedes', 'Volkswagen']\n"
     ]
    }
   ],
   "source": [
    "ale.sort()\n",
    "\n",
    "#Impresión de los resultados\n",
    "print(\"La lista de autos alemanes es:\", ale)"
   ]
  },
  {
   "cell_type": "markdown",
   "metadata": {},
   "source": [
    "El ordenamiento de los elementos en la ***Lista*** puede ser inverso modificando el método como `.sort(reverse=True)` de la siguiente manera:"
   ]
  },
  {
   "cell_type": "code",
   "execution_count": 18,
   "metadata": {},
   "outputs": [
    {
     "name": "stdout",
     "output_type": "stream",
     "text": [
      "La lista de autos alemanes es: ['Volkswagen', 'Mercedes', 'BMW']\n"
     ]
    }
   ],
   "source": [
    "ale.sort(reverse=True)\n",
    "\n",
    "#Impresión de los resultados\n",
    "print(\"La lista de autos alemanes es:\", ale)"
   ]
  },
  {
   "cell_type": "markdown",
   "metadata": {},
   "source": [
    "## TUPLAS\n",
    "\n",
    "Las ***Tuplas*** son similares a las ***Listas***, pero la diferencia es que los elementos en una ***Lista*** pueden ser modificados pero en una ***Tupla*** no se puede.\n",
    "\n",
    "Para definirlas se emplean paréntesis `()` en lugar de corchetes `[]`:"
   ]
  },
  {
   "cell_type": "code",
   "execution_count": 19,
   "metadata": {},
   "outputs": [
    {
     "name": "stdout",
     "output_type": "stream",
     "text": [
      "La lista de autos alemanes es: ['Volkswagen', 'Mercedes', 'BMW']\n",
      "La tupla de autos alemanes es: ('Volkswagen', 'Mercedes', 'BMW')\n"
     ]
    }
   ],
   "source": [
    "#Definición de valores\n",
    "lista = ['Volkswagen', 'Mercedes', 'BMW']\n",
    "tupla = ('Volkswagen', 'Mercedes', 'BMW')\n",
    "\n",
    "#Impresión de los resultados\n",
    "print(\"La lista de autos alemanes es:\", lista)\n",
    "print(\"La tupla de autos alemanes es:\", tupla)"
   ]
  },
  {
   "cell_type": "markdown",
   "metadata": {},
   "source": [
    "Por ejemplo, para agregar elementos a la ***Lista*** y a la ***Tupla*** empleando el método `.append()`:"
   ]
  },
  {
   "cell_type": "code",
   "execution_count": 20,
   "metadata": {
    "scrolled": true
   },
   "outputs": [
    {
     "name": "stdout",
     "output_type": "stream",
     "text": [
      "La lista de autos alemanes es: ['Volkswagen', 'Mercedes', 'BMW', 'Audi']\n",
      "No se puede modificar una tupla...\n"
     ]
    }
   ],
   "source": [
    "#Agregar elementos a la lista\n",
    "lista.append('Audi')\n",
    "print(\"La lista de autos alemanes es:\", lista)\n",
    "\n",
    "#Agregar elementos a la tupla\n",
    "try:\n",
    "    tupla.append('Audi')\n",
    "except AttributeError:\n",
    "    print (\"No se puede modificar una tupla...\")"
   ]
  },
  {
   "cell_type": "markdown",
   "metadata": {},
   "source": [
    "## DICCIONARIOS \n",
    "\n",
    "Los ***Diccionarios*** se emplean como una base de datos debido a que se pueden indexar de manera personalizada. Cada elemento contendrá un *identificador (key)* y su respectivo valor asociado *valor (value)*.\n",
    "\n",
    "Para definir un ***Diccionario*** se emplean llaves `{}` o la función `dict()` de la siguiente manera:"
   ]
  },
  {
   "cell_type": "code",
   "execution_count": 21,
   "metadata": {},
   "outputs": [
    {
     "name": "stdout",
     "output_type": "stream",
     "text": [
      "El Diccionario de Calificaciones es: {'Maria': 90, 'Jesus': 80, 'Joel': 60}\n",
      "La Calificación de María es: 90\n"
     ]
    }
   ],
   "source": [
    "#Definición de valores\n",
    "calif = { \"Maria\": 90, \"Jesus\": 80, \"Joel\": 60}\n",
    "\n",
    "#Impresión de los resultados\n",
    "print(\"El Diccionario de Calificaciones es:\", calif)\n",
    "print(\"La Calificación de María es:\", calif[\"Maria\"])"
   ]
  },
  {
   "cell_type": "markdown",
   "metadata": {},
   "source": [
    "Los valores en el ***Diccionario*** pueden ser modificados o agregados de la siguiente manera:"
   ]
  },
  {
   "cell_type": "code",
   "execution_count": 22,
   "metadata": {},
   "outputs": [
    {
     "name": "stdout",
     "output_type": "stream",
     "text": [
      "El Diccionario de Calificaciones es: {'Maria': 100, 'Jesus': 80, 'Joel': 60, 'Karina': 80}\n"
     ]
    }
   ],
   "source": [
    "#Definición de valores\n",
    "calif[\"Maria\"] = 100 \n",
    "calif[\"Karina\"] = 80 \n",
    "\n",
    "#Impresión de los resultados\n",
    "print(\"El Diccionario de Calificaciones es:\", calif)"
   ]
  },
  {
   "cell_type": "markdown",
   "metadata": {},
   "source": [
    "Se puede mostrar la lista de *identificadores (keys)* contenidos en el ***Diccionario*** empleando el método `.keys()` de la siguiente manera:"
   ]
  },
  {
   "cell_type": "code",
   "execution_count": 23,
   "metadata": {},
   "outputs": [
    {
     "name": "stdout",
     "output_type": "stream",
     "text": [
      "dict_keys(['Maria', 'Jesus', 'Joel', 'Karina'])\n"
     ]
    }
   ],
   "source": [
    "print(calif.keys())"
   ]
  },
  {
   "cell_type": "markdown",
   "metadata": {},
   "source": [
    "Se puede mostrar la lista de *valores (values)* contenidos en el ***Diccionario*** empleando el método `.values()` de la siguiente manera:"
   ]
  },
  {
   "cell_type": "code",
   "execution_count": 24,
   "metadata": {},
   "outputs": [
    {
     "name": "stdout",
     "output_type": "stream",
     "text": [
      "dict_values([100, 80, 60, 80])\n"
     ]
    }
   ],
   "source": [
    "print(calif.values())"
   ]
  },
  {
   "cell_type": "markdown",
   "metadata": {},
   "source": [
    "Se puede mostrar la lista de todos los elementos contenidos en el ***Diccionario*** como pares ordenados empleando el método `.items()` de la siguiente manera:"
   ]
  },
  {
   "cell_type": "code",
   "execution_count": 25,
   "metadata": {
    "scrolled": true
   },
   "outputs": [
    {
     "name": "stdout",
     "output_type": "stream",
     "text": [
      "dict_items([('Maria', 100), ('Jesus', 80), ('Joel', 60), ('Karina', 80)])\n"
     ]
    }
   ],
   "source": [
    "print(calif.items())"
   ]
  },
  {
   "cell_type": "markdown",
   "metadata": {},
   "source": [
    "<div class=\"alert alert-block alert-success\">\n",
    "<b>.: Fin del Subtema :.</b>\n",
    "</div>\n",
    "\n",
    "***Liga de aceso al siguiente Subtema:*** \n",
    "<br>[d. Control de Flujo](d.%20Control%20de%20Flujo.ipynb)"
   ]
  }
 ],
 "metadata": {
  "kernelspec": {
   "display_name": "Python 3",
   "language": "python",
   "name": "python3"
  },
  "language_info": {
   "codemirror_mode": {
    "name": "ipython",
    "version": 3
   },
   "file_extension": ".py",
   "mimetype": "text/x-python",
   "name": "python",
   "nbconvert_exporter": "python",
   "pygments_lexer": "ipython3",
   "version": "3.8.3"
  }
 },
 "nbformat": 4,
 "nbformat_minor": 1
}
