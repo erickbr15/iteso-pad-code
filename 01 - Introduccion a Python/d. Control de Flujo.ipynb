{
 "cells": [
  {
   "cell_type": "markdown",
   "metadata": {},
   "source": [
    "<div class=\"alert alert-block alert-info\">\n",
    "<img src=\"./Imagenes/ITESO_Logo.png\" style=\"width:500px;height:142px;\" title=\"Logo ITESO\">\n",
    "<br><font face = \"Times New Roman\" size = \"6\"><b><center>Maestría en Sistemas Computacionales</center></b></font>\n",
    "<br><font face = \"Times New Roman\" size = \"5\"><b><center>Programación para Análisis de Datos</center></b></font>\n",
    "\n",
    "<b><br><font face = \"Times New Roman\" size = \"4\"><center>Unidad 2: Conceptos Generales</center></font>\n",
    "<font face = \"Times New Roman\" size = \"4\"><center>Tema 2.1: Programación en Python como Herramienta de Desarrollo</center></font>\n",
    "<font face = \"Times New Roman\" size = \"4\"><center>Subtema d: Control de Flujo</center></font></b>\n",
    "</div>"
   ]
  },
  {
   "cell_type": "markdown",
   "metadata": {},
   "source": [
    "## CONTROL DE FLUJO\n",
    "\n",
    "Una estructura de control de flujo es un bloque de código que permite agrupar instrucciones de manera controlada. Para hablar de estructuras de control de flujo en **Python**, es imprescindible hablar de identación.\n",
    "\n",
    "### ¿Qué es la identación? \n",
    "En un lenguaje de programación, la identación es lo que la sangría al lenguaje humano escrito (a nivel formal). Así como para el lenguaje formal, cuando uno redacta una carta se deben respetar ciertas sangrías, en los lenguajes de programación se requiere una identación.\n",
    "\n",
    "No todos los lenguajes de programación necesitan de una identación, aunque sí se estila implementarla a fin de otorgar mayor legibilidad al código fuente. Pero en el caso de **Python**, la identación es obligatoria, ya que de ella dependerá su estructura.\n",
    "\n",
    "Una identación de ***4 espacios en blanco*** indicará que las instrucciones identadas forman parte de una misma estructura de control.\n",
    "\n",
    "### Estructura de Control de Flujo IF\n",
    "Las estructuras de control de flujo condicionales se definen mediante el uso de tres palabras claves reservadas del lenguaje: `if` (si), `elif` (sino, si) y `else` (sino).\n",
    "\n",
    "Inicialmente, el uso de `if` se puede realizar de la siguiente manera:\n",
    "\n",
    "`if condicion:\n",
    "    algoritmo`\n",
    "    \n",
    "Como ejemplo: "
   ]
  },
  {
   "cell_type": "code",
   "execution_count": 1,
   "metadata": {},
   "outputs": [
    {
     "name": "stdout",
     "output_type": "stream",
     "text": [
      "Hola\n"
     ]
    }
   ],
   "source": [
    "#Estructura de Control de Flujo Condicional if\n",
    "x = 12\n",
    "\n",
    "if x > 10:\n",
    "    print(\"Hola\")"
   ]
  },
  {
   "cell_type": "markdown",
   "metadata": {},
   "source": [
    "### Estructura de Control de Flujo IF-ELSE\n",
    "El uso de `if` y `else` se puede realizar de la siguiente manera:\n",
    "\n",
    "`if condicion:\n",
    "    algoritmo\n",
    "else:\n",
    "    algoritmo`\n",
    "\n",
    "Como ejemplo:"
   ]
  },
  {
   "cell_type": "code",
   "execution_count": 2,
   "metadata": {},
   "outputs": [
    {
     "name": "stdout",
     "output_type": "stream",
     "text": [
      "Hola\n"
     ]
    }
   ],
   "source": [
    "#Estructura de Control de Flujo Condicional if-else\n",
    "x = 12\n",
    "\n",
    "if x > 10:\n",
    "    print(\"Hola\")\n",
    "else:\n",
    "    print(\"Mundo\")"
   ]
  },
  {
   "cell_type": "markdown",
   "metadata": {},
   "source": [
    "### Estructura de Control de Flujo IF-ELIF\n",
    "El uso de `if` y `elif` se puede realizar de la siguiente manera:\n",
    "\n",
    "`if condicion:\n",
    "    algoritmo\n",
    "elif condicion:\n",
    "    algoritmo\n",
    "else:\n",
    "    algoritmo`\n",
    "\n",
    "Como ejemplo:"
   ]
  },
  {
   "cell_type": "code",
   "execution_count": 3,
   "metadata": {},
   "outputs": [
    {
     "name": "stdout",
     "output_type": "stream",
     "text": [
      "x < y\n"
     ]
    }
   ],
   "source": [
    "#Estructura de Control de Flujo Condicional if-elif\n",
    "x = 10\n",
    "y = 12\n",
    "\n",
    "if x > y:\n",
    "    print(\"x > y\")\n",
    "elif x < y:\n",
    "    print(\"x < y\")\n",
    "else:\n",
    "    print(\"x = y\")"
   ]
  },
  {
   "cell_type": "markdown",
   "metadata": {},
   "source": [
    "Puede existir una condicionante dentro de otra condicionante, esto es, una estructura `if-else` dentro de otra estructura `if-elif`, a esto se le conoce como condiciones anidadas. Como ejemplo:"
   ]
  },
  {
   "cell_type": "code",
   "execution_count": 4,
   "metadata": {},
   "outputs": [
    {
     "name": "stdout",
     "output_type": "stream",
     "text": [
      "x < y\n",
      "x = 10\n"
     ]
    }
   ],
   "source": [
    "#Estructura de Control de Flujo Condicional Anidada\n",
    "x = 10\n",
    "y = 12\n",
    "\n",
    "if x > y:\n",
    "    print(\"x > y\")\n",
    "elif x < y:\n",
    "    print(\"x < y\")\n",
    "    if x==10:\n",
    "        print(\"x = 10\")\n",
    "    else:\n",
    "        print(\"inválido\")\n",
    "else:\n",
    "    print(\"x = y\")"
   ]
  },
  {
   "cell_type": "markdown",
   "metadata": {},
   "source": [
    "### Estructura de Control de Flujo Iterativas\n",
    "A diferencia de las estructuras de control condicionales, las iterativas (también llamadas cíclicas o bucles), permiten ejecutar un mismo código de manera repetida, mientras se cumpla una condición.\n",
    "\n",
    "En **Python** se dispone de dos estructuras cíclicas:\n",
    "* El bucle `while`.\n",
    "* El bucle `for`.\n",
    "\n",
    "### Estructura de Control de Flujo FOR\n",
    "El bucle `for` en **Python**, es aquel que permitirá iterar sobre una variable que puede ser del tipo lista o tupla.\n",
    "\n",
    "`for variable in algo:\n",
    "    algoritmo`\n",
    "    \n",
    "En el siguiente ejemplo, la variable *i* itera para los valores de *0* a *4*, y cada vez que itera ejecuta el algoritmo dentro del bucle: "
   ]
  },
  {
   "cell_type": "code",
   "execution_count": 5,
   "metadata": {},
   "outputs": [
    {
     "name": "stdout",
     "output_type": "stream",
     "text": [
      "0\n",
      "1\n",
      "2\n",
      "3\n",
      "4\n"
     ]
    }
   ],
   "source": [
    "#Estructura de Control de Flujo for\n",
    "for i in range(5):\n",
    "    print(i)"
   ]
  },
  {
   "cell_type": "markdown",
   "metadata": {},
   "source": [
    "También es posible iterar en una ***Lista Anidada*** como se describe a continuación:"
   ]
  },
  {
   "cell_type": "code",
   "execution_count": 6,
   "metadata": {},
   "outputs": [
    {
     "name": "stdout",
     "output_type": "stream",
     "text": [
      "[1, 2, 3]\n",
      "[4, 5, 6]\n",
      "[7, 8, 9]\n"
     ]
    }
   ],
   "source": [
    "#Estructura de Control de Flujo for\n",
    "lista_de_listas = [[1, 2, 3], [4, 5, 6], [7, 8, 9]]\n",
    "\n",
    "for lista1 in lista_de_listas:\n",
    "        print(lista1)"
   ]
  },
  {
   "cell_type": "markdown",
   "metadata": {},
   "source": [
    "Ahora, para extraer todos los elementos de la ***Lista Anidada*** se puede realizar lo siguiente:"
   ]
  },
  {
   "cell_type": "code",
   "execution_count": 7,
   "metadata": {},
   "outputs": [
    {
     "name": "stdout",
     "output_type": "stream",
     "text": [
      "1\n",
      "2\n",
      "3\n",
      "4\n",
      "5\n",
      "6\n",
      "7\n",
      "8\n",
      "9\n"
     ]
    }
   ],
   "source": [
    "#Estructura de Control de Flujo for\n",
    "for lista1 in lista_de_listas:\n",
    "    for x in lista1:\n",
    "        print(x)"
   ]
  },
  {
   "cell_type": "markdown",
   "metadata": {},
   "source": [
    "### Estructura de Control de Flujo WHILE\n",
    "El bucle `while` en **Python**, se encarga de ejecutar una misma acción \"mientras que\" una determinada condición se cumpla. \n",
    "\n",
    "`while condicion:\n",
    "    algoritmo`\n",
    "    \n",
    "Como ejemplo: "
   ]
  },
  {
   "cell_type": "code",
   "execution_count": 8,
   "metadata": {},
   "outputs": [
    {
     "name": "stdout",
     "output_type": "stream",
     "text": [
      "2\n",
      "4\n",
      "FIN\n"
     ]
    }
   ],
   "source": [
    "#Estructura de Control de Flujo while\n",
    "i = 1\n",
    "\n",
    "while i < 3:\n",
    "    print(i * 2)\n",
    "    i = i + 1\n",
    "print('FIN')"
   ]
  },
  {
   "cell_type": "markdown",
   "metadata": {},
   "source": [
    "Dentro de la estructura `for` se puede emplear la función `break`, la cual \"rompe\" el bucle cuando una condición es verdadera durante la ejecución del mismo. Por ejemplo:"
   ]
  },
  {
   "cell_type": "code",
   "execution_count": 9,
   "metadata": {},
   "outputs": [
    {
     "name": "stdout",
     "output_type": "stream",
     "text": [
      "0\n",
      "1\n",
      "2\n",
      "3\n",
      "4\n",
      "5\n",
      "6\n",
      "7\n"
     ]
    }
   ],
   "source": [
    "#Estructura de Control de Flujo while\n",
    "for i in range(100):\n",
    "    print(i)\n",
    "    if i >= 7:\n",
    "        break"
   ]
  },
  {
   "cell_type": "markdown",
   "metadata": {},
   "source": [
    "Por otro lado, dentro de la estructura `for` se puede emplear la función `continue`, la cual \"continúa\" con el resto del bucle evitando su terminación. Por ejemplo:"
   ]
  },
  {
   "cell_type": "code",
   "execution_count": 10,
   "metadata": {
    "scrolled": true
   },
   "outputs": [
    {
     "name": "stdout",
     "output_type": "stream",
     "text": [
      "0\n",
      "1\n",
      "2\n",
      "3\n",
      "4\n",
      "FIN\n",
      "FIN\n",
      "FIN\n",
      "FIN\n",
      "FIN\n"
     ]
    }
   ],
   "source": [
    "#Estructura de Control de Flujo while\n",
    "for i in range(10):\n",
    "    if i > 4:\n",
    "        print(\"FIN\")\n",
    "        continue\n",
    "    elif i < 7:\n",
    "        print(i)"
   ]
  },
  {
   "cell_type": "markdown",
   "metadata": {},
   "source": [
    "<div class=\"alert alert-block alert-success\">\n",
    "<b>.: Fin del Subtema :.</b>\n",
    "</div>\n",
    "\n",
    "***Liga de aceso al siguiente Subtema:*** \n",
    "<br>[e. Funciones](e.%20Funciones.ipynb)"
   ]
  }
 ],
 "metadata": {
  "kernelspec": {
   "display_name": "Python 3",
   "language": "python",
   "name": "python3"
  },
  "language_info": {
   "codemirror_mode": {
    "name": "ipython",
    "version": 3
   },
   "file_extension": ".py",
   "mimetype": "text/x-python",
   "name": "python",
   "nbconvert_exporter": "python",
   "pygments_lexer": "ipython3",
   "version": "3.8.3"
  }
 },
 "nbformat": 4,
 "nbformat_minor": 1
}
