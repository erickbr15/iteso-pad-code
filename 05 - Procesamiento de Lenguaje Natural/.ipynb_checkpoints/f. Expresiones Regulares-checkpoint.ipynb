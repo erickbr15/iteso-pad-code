{
 "cells": [
  {
   "cell_type": "markdown",
   "metadata": {},
   "source": [
    "<div class=\"alert alert-block alert-info\">\n",
    "<img src=\"./Imagenes/ITESO_Logo.png\" style=\"width:500px;height:142px;\" title=\"Logo ITESO\">\n",
    "<br><font face = \"Times New Roman\" size = \"6\"><b><center>Maestría en Sistemas Computacionales</center></b></font>\n",
    "<br><font face = \"Times New Roman\" size = \"5\"><b><center>Programación para Análisis de Datos</center></b></font>\n",
    "\n",
    "<b><br><font face = \"Times New Roman\" size = \"4\"><center>Unidad 5: Proceso de Selección de Métodos</center></font>\n",
    "<font face = \"Times New Roman\" size = \"4\"><center>Tema 5.1: Procesamiento de Lenguaje Natural</center></font>\n",
    "<font face = \"Times New Roman\" size = \"4\"><center>Subtema f: Expresiones Regulares</center></font></b>\n",
    "</div>"
   ]
  },
  {
   "cell_type": "markdown",
   "metadata": {
    "collapsed": true
   },
   "source": [
    "## EXPRESIONES REGULARES\n",
    "\n",
    "Para este ejemplo se empleará nuevamente el **Corpus** `Gutenberg`, del cual se leerán los datos del libro **Alice's Adventures in Wonderland** de ***Lewis Carroll*** como se revisó previamente. Adicionalmente, se importará la librería **re** empleada para el uso de **Expresiones Regulares**:"
   ]
  },
  {
   "cell_type": "code",
   "execution_count": 1,
   "metadata": {},
   "outputs": [],
   "source": [
    "#Importación de la librería NLTK\n",
    "import nltk\n",
    "\n",
    "#Importación de la librería Regular Expressions\n",
    "import re\n",
    "\n",
    "#Lectura de un texto\n",
    "alice = nltk.corpus.gutenberg.words(\"carroll-alice.txt\")"
   ]
  },
  {
   "cell_type": "markdown",
   "metadata": {},
   "source": [
    "A partir del texto se buscará cada palabra que comience con \"***new***\" empleando el método `.search()` de la librería `re`. \n",
    "\n",
    "Para este caso, los símbolos empleados indican lo siguiente:\n",
    "\n",
    "* El símbolo `^` indica que debe ser similar en el inicio de la cadena."
   ]
  },
  {
   "cell_type": "code",
   "execution_count": 2,
   "metadata": {},
   "outputs": [
    {
     "data": {
      "text/plain": [
       "{'new', 'newspapers'}"
      ]
     },
     "execution_count": 2,
     "metadata": {},
     "output_type": "execute_result"
    }
   ],
   "source": [
    "#Identificación de las palabras que comiencen con \"new\"\n",
    "set([palabra for palabra in alice if re.search(\"^new\", palabra)])"
   ]
  },
  {
   "cell_type": "markdown",
   "metadata": {},
   "source": [
    "A partir del texto se buscará cada palabra que termine con \"***ful***\" empleando el método `.search()` de la librería `re`. \n",
    "\n",
    "Para este caso, los símbolos empleados indican lo siguiente:\n",
    "\n",
    "* El símbolo `$` indica que debe ser similar en el fin de la cadena."
   ]
  },
  {
   "cell_type": "code",
   "execution_count": 3,
   "metadata": {},
   "outputs": [
    {
     "data": {
      "text/plain": [
       "{'Beautiful',\n",
       " 'barrowful',\n",
       " 'beautiful',\n",
       " 'delightful',\n",
       " 'doubtful',\n",
       " 'dreadful',\n",
       " 'graceful',\n",
       " 'hopeful',\n",
       " 'mournful',\n",
       " 'ootiful',\n",
       " 'respectful',\n",
       " 'sorrowful',\n",
       " 'truthful',\n",
       " 'useful',\n",
       " 'wonderful'}"
      ]
     },
     "execution_count": 3,
     "metadata": {},
     "output_type": "execute_result"
    }
   ],
   "source": [
    "#Identificación de las palabras que terminen con \"ful\"\n",
    "set([palabra for palabra in alice if re.search(\"ful$\", palabra)])"
   ]
  },
  {
   "cell_type": "markdown",
   "metadata": {},
   "source": [
    "A partir del texto se buscará cada palabra que tenga 6 caracteres de extensión y tenga \"***nn***\" en su parte media, empleando el método `.search()` de la librería `re`. \n",
    "\n",
    "Para este caso, los símbolos empleados indican lo siguiente:\n",
    "\n",
    "* El símbolo `^` indica que debe ser similar en el inicio de la cadena.\n",
    "* El símbolo `$` indica que debe ser similar en el fin de la cadena.\n",
    "* El símbolo `..` indica que puede tomar cualquier caracter en dicha posición."
   ]
  },
  {
   "cell_type": "code",
   "execution_count": 4,
   "metadata": {},
   "outputs": [
    {
     "data": {
      "text/plain": [
       "{'cannot', 'dinner', 'fanned', 'manner', 'tunnel'}"
      ]
     },
     "execution_count": 4,
     "metadata": {},
     "output_type": "execute_result"
    }
   ],
   "source": [
    "#Identificación de las palabras con características específicas\n",
    "set([palabra for palabra in alice if re.search(\"^..nn..$\", palabra)])"
   ]
  },
  {
   "cell_type": "markdown",
   "metadata": {},
   "source": [
    "A partir del texto se buscará cualquier palabra que comience con \"***c***\", \"***h***\" o \"***r***\", y que termine en \"***at***\", empleando el método `.search()` de la librería `re`. \n",
    "\n",
    "Para este caso, los símbolos empleados indican lo siguiente:\n",
    "\n",
    "* El símbolo `^` indica que debe ser similar en el inicio de la cadena.\n",
    "* El símbolo `$` indica que debe ser similar en el fin de la cadena.\n",
    "* El símbolo `[ ]` indica los caracteres que pueden existir en dicha posición."
   ]
  },
  {
   "cell_type": "code",
   "execution_count": 5,
   "metadata": {},
   "outputs": [
    {
     "data": {
      "text/plain": [
       "{'cat', 'hat', 'rat'}"
      ]
     },
     "execution_count": 5,
     "metadata": {},
     "output_type": "execute_result"
    }
   ],
   "source": [
    "#Identificación de las palabras con características específicas\n",
    "set([palabra for palabra in alice if re.search(\"^[chr]at$\", palabra)])"
   ]
  },
  {
   "cell_type": "markdown",
   "metadata": {},
   "source": [
    "A partir del texto se buscarán palabras de cualquier longitud que tengan \"***nn***\", empleando el método `.search()` de la librería `re`. \n",
    "\n",
    "Para este caso, los símbolos empleados indican lo siguiente:\n",
    "\n",
    "* El símbolo `^` indica que debe ser similar en el inicio de la cadena.\n",
    "* El símbolo `$` indica que debe ser similar en el fin de la cadena.\n",
    "* El símbolo `.*` y `*.` indican que puede tomar cualquier tipo de caracter."
   ]
  },
  {
   "cell_type": "code",
   "execution_count": 6,
   "metadata": {},
   "outputs": [
    {
     "data": {
      "text/plain": [
       "{'Ann',\n",
       " 'Dinn',\n",
       " 'Pennyworth',\n",
       " 'annoy',\n",
       " 'annoyed',\n",
       " 'beginning',\n",
       " 'cannot',\n",
       " 'cunning',\n",
       " 'dinn',\n",
       " 'dinner',\n",
       " 'fanned',\n",
       " 'fanning',\n",
       " 'funny',\n",
       " 'grinned',\n",
       " 'grinning',\n",
       " 'manner',\n",
       " 'manners',\n",
       " 'planning',\n",
       " 'running',\n",
       " 'tunnel'}"
      ]
     },
     "execution_count": 6,
     "metadata": {},
     "output_type": "execute_result"
    }
   ],
   "source": [
    "#Identificación de las palabras con características específicas\n",
    "set([palabra for palabra in alice if re.search(\"^.*nn.*$\", palabra)])"
   ]
  },
  {
   "cell_type": "markdown",
   "metadata": {},
   "source": [
    "<div class=\"alert alert-block alert-success\">\n",
    "<b>.: Fin del Subtema :.</b>\n",
    "</div>\n",
    "\n",
    "***Liga de aceso al siguiente Subtema:*** \n",
    "<br>[g. Tokenización](g.%20Tokenizacion.ipynb)"
   ]
  }
 ],
 "metadata": {
  "kernelspec": {
   "display_name": "Python 3",
   "language": "python",
   "name": "python3"
  },
  "language_info": {
   "codemirror_mode": {
    "name": "ipython",
    "version": 3
   },
   "file_extension": ".py",
   "mimetype": "text/x-python",
   "name": "python",
   "nbconvert_exporter": "python",
   "pygments_lexer": "ipython3",
   "version": "3.8.8"
  }
 },
 "nbformat": 4,
 "nbformat_minor": 2
}
