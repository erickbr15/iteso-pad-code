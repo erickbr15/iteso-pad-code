{
 "cells": [
  {
   "cell_type": "markdown",
   "metadata": {},
   "source": [
    "<div class=\"alert alert-block alert-info\">\n",
    "<img src=\"./Imagenes/ITESO_Logo.png\" style=\"width:500px;height:142px;\" title=\"Logo ITESO\">\n",
    "<br><font face = \"Times New Roman\" size = \"6\"><b><center>Maestría en Sistemas Computacionales</center></b></font>\n",
    "<br><font face = \"Times New Roman\" size = \"5\"><b><center>Programación para Análisis de Datos</center></b></font>\n",
    "\n",
    "<b><br><font face = \"Times New Roman\" size = \"4\"><center>Unidad 5: Proceso de Selección de Métodos</center></font>\n",
    "<font face = \"Times New Roman\" size = \"4\"><center>Tema 5.1: Procesamiento de Lenguaje Natural</center></font>\n",
    "<font face = \"Times New Roman\" size = \"4\"><center>Subtema e: Bigramas</center></font></b>\n",
    "</div>"
   ]
  },
  {
   "cell_type": "markdown",
   "metadata": {},
   "source": [
    "## BIGRAMAS\n",
    "\n",
    "Un **Bigrama** es un grupos de dos letras, dos sílabas, o dos palabras, los cuales comúnmente son utilizados como base para el simple análisis estadístico de texto.\n",
    "\n",
    "Para ejemplificar su uso, se empleará un simple enunciado generado como una cadena de texto:"
   ]
  },
  {
   "cell_type": "code",
   "execution_count": 1,
   "metadata": {},
   "outputs": [],
   "source": [
    "#Importación de la librería NLTK\n",
    "import nltk\n",
    "\n",
    "#Creación de una cadena de texto\n",
    "texto = \"Creo que hoy podría llover por la tarde.\""
   ]
  },
  {
   "cell_type": "markdown",
   "metadata": {},
   "source": [
    "Ahora se hará la separación de cada uno de los elementos del texto (sin contar los espacios), lo cual se conoce como **Tokenización**, para ello se emplea el método `word_tokenize()` y se asignará a una lista de nombre `tokens`, la cual puede ser mostrada:"
   ]
  },
  {
   "cell_type": "code",
   "execution_count": 2,
   "metadata": {},
   "outputs": [
    {
     "name": "stdout",
     "output_type": "stream",
     "text": [
      "Los \"tokens\" contenidos en el enunciado son:\n",
      " ['Creo', 'que', 'hoy', 'podría', 'llover', 'por', 'la', 'tarde', '.']\n"
     ]
    }
   ],
   "source": [
    "#Tokenización de la frase de texto\n",
    "tokens = nltk.word_tokenize(texto)\n",
    "\n",
    "#Impresión de los Resultados\n",
    "print(\"Los \\\"tokens\\\" contenidos en el enunciado son:\\n\", tokens)"
   ]
  },
  {
   "cell_type": "markdown",
   "metadata": {},
   "source": [
    "Para extraer los **Bigramas** presentes en la cadena de texto, es decir, los pares de palabras adyacentes, se emplea el método `.bigrams()` y se asigna a una variable:"
   ]
  },
  {
   "cell_type": "code",
   "execution_count": 3,
   "metadata": {},
   "outputs": [],
   "source": [
    "#Extracción de los bigramas de los tokens\n",
    "bigramas = nltk.bigrams(tokens)"
   ]
  },
  {
   "cell_type": "markdown",
   "metadata": {},
   "source": [
    "Para mostrar los **Bigramas**, se emplea un ciclo `for` que muestra los pares:"
   ]
  },
  {
   "cell_type": "code",
   "execution_count": 4,
   "metadata": {
    "scrolled": true
   },
   "outputs": [
    {
     "name": "stdout",
     "output_type": "stream",
     "text": [
      "Creo que hoy podría llover por la tarde.\n",
      "('Creo', 'que')\n",
      "('que', 'hoy')\n",
      "('hoy', 'podría')\n",
      "('podría', 'llover')\n",
      "('llover', 'por')\n",
      "('por', 'la')\n",
      "('la', 'tarde')\n",
      "('tarde', '.')\n"
     ]
    }
   ],
   "source": [
    "#Impresión del Enunciado\n",
    "print(texto)\n",
    "\n",
    "#Ciclo para la impresión de los bigramas\n",
    "for item in bigramas:\n",
    "    print(item)"
   ]
  },
  {
   "cell_type": "markdown",
   "metadata": {},
   "source": [
    "De manera similar, se pueden extraer los **Trigramas** presentes en la cadena de texto a través del método `.trirams()` mostrando su contenido con el ciclo `for` que mostrará los conjuntos de tres elementos adyacentes:"
   ]
  },
  {
   "cell_type": "code",
   "execution_count": 5,
   "metadata": {},
   "outputs": [
    {
     "name": "stdout",
     "output_type": "stream",
     "text": [
      "Creo que hoy podría llover por la tarde.\n",
      "('Creo', 'que', 'hoy')\n",
      "('que', 'hoy', 'podría')\n",
      "('hoy', 'podría', 'llover')\n",
      "('podría', 'llover', 'por')\n",
      "('llover', 'por', 'la')\n",
      "('por', 'la', 'tarde')\n",
      "('la', 'tarde', '.')\n"
     ]
    }
   ],
   "source": [
    "#Extracción de los trigramas de los tokens\n",
    "trigramas = nltk.trigrams(tokens)\n",
    "\n",
    "#Impresión del Enunciado\n",
    "print(texto)\n",
    "\n",
    "#Ciclo para la impresión de los trigramas\n",
    "for item in trigramas:\n",
    "    print(item)"
   ]
  },
  {
   "cell_type": "markdown",
   "metadata": {
    "collapsed": true
   },
   "source": [
    "Es posible realizar conjuntos de mayores cantidades de palabras, para ello se empleará la función `ngrams()` donde se agregará el parámetro que indique la cantidad de palabras adyacentes que se van a agrupar.\n",
    "\n",
    "Los pasos a seguir son:\n",
    "\n",
    "1. Se importará la librería que contiene la función `ngrams()` de la librería **NLTK**.\n",
    "2. Se creará una nueva cadena de texto.\n",
    "3. Se realizará la **Tokenización** de la nueva cadena de texto.\n",
    "\n",
    "Esto es:"
   ]
  },
  {
   "cell_type": "code",
   "execution_count": 6,
   "metadata": {},
   "outputs": [],
   "source": [
    "#Importación de la librería\n",
    "from nltk.util import ngrams\n",
    "\n",
    "#Creación de una cadena de texto\n",
    "texto = \"Si el clima está agradable, iré a pasear a la playa.\"\n",
    "\n",
    "#Tokenización de la frase de texto\n",
    "tokens = nltk.word_tokenize(texto)"
   ]
  },
  {
   "cell_type": "markdown",
   "metadata": {
    "collapsed": true
   },
   "source": [
    "Para el caso de un **Bigrama** empleando la función `ngrams()`:"
   ]
  },
  {
   "cell_type": "code",
   "execution_count": 7,
   "metadata": {},
   "outputs": [
    {
     "name": "stdout",
     "output_type": "stream",
     "text": [
      "Si el clima está agradable, iré a pasear a la playa.\n",
      "('Si', 'el')\n",
      "('el', 'clima')\n",
      "('clima', 'está')\n",
      "('está', 'agradable')\n",
      "('agradable', ',')\n",
      "(',', 'iré')\n",
      "('iré', 'a')\n",
      "('a', 'pasear')\n",
      "('pasear', 'a')\n",
      "('a', 'la')\n",
      "('la', 'playa')\n",
      "('playa', '.')\n"
     ]
    }
   ],
   "source": [
    "#Extracción de los bigramas de los tokens\n",
    "bigramas = ngrams(tokens, 2)\n",
    "\n",
    "#Impresión del Enunciado\n",
    "print(texto)\n",
    "\n",
    "#Ciclo para la impresión de los bigramas\n",
    "for item in bigramas:\n",
    "    print(item)"
   ]
  },
  {
   "cell_type": "markdown",
   "metadata": {},
   "source": [
    "De esa manera se puede seleccionar la cantidad de palabras a agrupar, por ejemplo para 5 palabras:"
   ]
  },
  {
   "cell_type": "code",
   "execution_count": 8,
   "metadata": {},
   "outputs": [
    {
     "name": "stdout",
     "output_type": "stream",
     "text": [
      "Si el clima está agradable, iré a pasear a la playa.\n",
      "('Si', 'el', 'clima', 'está', 'agradable')\n",
      "('el', 'clima', 'está', 'agradable', ',')\n",
      "('clima', 'está', 'agradable', ',', 'iré')\n",
      "('está', 'agradable', ',', 'iré', 'a')\n",
      "('agradable', ',', 'iré', 'a', 'pasear')\n",
      "(',', 'iré', 'a', 'pasear', 'a')\n",
      "('iré', 'a', 'pasear', 'a', 'la')\n",
      "('a', 'pasear', 'a', 'la', 'playa')\n",
      "('pasear', 'a', 'la', 'playa', '.')\n"
     ]
    }
   ],
   "source": [
    "#Extracción de los 5-gramas de los tokens\n",
    "fivegrams = ngrams(tokens,5)\n",
    "\n",
    "#Impresión del Enunciado\n",
    "print(texto)\n",
    "\n",
    "#Ciclo para la impresión de los 5-gramas\n",
    "for item in fivegrams:\n",
    "    print(item)"
   ]
  },
  {
   "cell_type": "markdown",
   "metadata": {},
   "source": [
    "Finalmente, es posible generar una función que reciba como argumentos la cadena de texto y la cantidad de elementos a agrupar como el ***n-grama***. La función queda definida como:"
   ]
  },
  {
   "cell_type": "code",
   "execution_count": 9,
   "metadata": {},
   "outputs": [],
   "source": [
    "#Función para determinación del n-grama de una cadena de texto\n",
    "def n_grams(texto, n):\n",
    "    tokens = nltk.word_tokenize(texto)\n",
    "    grams = ngrams(tokens,n)\n",
    "    return grams"
   ]
  },
  {
   "cell_type": "markdown",
   "metadata": {
    "collapsed": true
   },
   "source": [
    "Y se llama la función, por ejemplo, para ***8-gramas*** en una nueva cadena de texto:"
   ]
  },
  {
   "cell_type": "code",
   "execution_count": 10,
   "metadata": {},
   "outputs": [
    {
     "name": "stdout",
     "output_type": "stream",
     "text": [
      "Hoy podría llover por la tarde, pero si el clima está agradable, iré a pasear a la playa.\n",
      "('Hoy', 'podría', 'llover', 'por', 'la', 'tarde', ',', 'pero')\n",
      "('podría', 'llover', 'por', 'la', 'tarde', ',', 'pero', 'si')\n",
      "('llover', 'por', 'la', 'tarde', ',', 'pero', 'si', 'el')\n",
      "('por', 'la', 'tarde', ',', 'pero', 'si', 'el', 'clima')\n",
      "('la', 'tarde', ',', 'pero', 'si', 'el', 'clima', 'está')\n",
      "('tarde', ',', 'pero', 'si', 'el', 'clima', 'está', 'agradable')\n",
      "(',', 'pero', 'si', 'el', 'clima', 'está', 'agradable', ',')\n",
      "('pero', 'si', 'el', 'clima', 'está', 'agradable', ',', 'iré')\n",
      "('si', 'el', 'clima', 'está', 'agradable', ',', 'iré', 'a')\n",
      "('el', 'clima', 'está', 'agradable', ',', 'iré', 'a', 'pasear')\n",
      "('clima', 'está', 'agradable', ',', 'iré', 'a', 'pasear', 'a')\n",
      "('está', 'agradable', ',', 'iré', 'a', 'pasear', 'a', 'la')\n",
      "('agradable', ',', 'iré', 'a', 'pasear', 'a', 'la', 'playa')\n",
      "(',', 'iré', 'a', 'pasear', 'a', 'la', 'playa', '.')\n"
     ]
    }
   ],
   "source": [
    "#Creación de una cadena de texto\n",
    "texto = \"Hoy podría llover por la tarde, pero si el clima está agradable, iré a pasear a la playa.\"\n",
    "\n",
    "#Extracción de los n-gramas de la cadena de texto\n",
    "grams = n_grams(texto, 8)\n",
    "\n",
    "#Impresión del Enunciado\n",
    "print(texto)\n",
    "\n",
    "#Ciclo para la impresión de los n-gramas\n",
    "for item in grams:\n",
    "    print(item)"
   ]
  },
  {
   "cell_type": "markdown",
   "metadata": {},
   "source": [
    "<div class=\"alert alert-block alert-success\">\n",
    "<b>.: Fin del Subtema :.</b>\n",
    "</div>\n",
    "\n",
    "***Liga de aceso al siguiente Subtema:*** \n",
    "<br>[f. Expresiones Regulares](f.%20Expresiones%20Regulares.ipynb)"
   ]
  }
 ],
 "metadata": {
  "kernelspec": {
   "display_name": "Python 3",
   "language": "python",
   "name": "python3"
  },
  "language_info": {
   "codemirror_mode": {
    "name": "ipython",
    "version": 3
   },
   "file_extension": ".py",
   "mimetype": "text/x-python",
   "name": "python",
   "nbconvert_exporter": "python",
   "pygments_lexer": "ipython3",
   "version": "3.8.5"
  }
 },
 "nbformat": 4,
 "nbformat_minor": 2
}
