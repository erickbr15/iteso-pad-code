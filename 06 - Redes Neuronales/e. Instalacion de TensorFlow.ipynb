{
 "cells": [
  {
   "cell_type": "markdown",
   "metadata": {},
   "source": [
    "<div class=\"alert alert-block alert-info\">\n",
    "<img src=\"./Imagenes/ITESO_Logo.png\" style=\"width:500px;height:142px;\" title=\"Logo ITESO\">\n",
    "<br><font face = \"Times New Roman\" size = \"6\"><b><center>Maestría en Sistemas Computacionales</center></b></font>\n",
    "<br><font face = \"Times New Roman\" size = \"5\"><b><center>Programación para Análisis de Datos</center></b></font>\n",
    "\n",
    "<b><br><font face = \"Times New Roman\" size = \"4\"><center>Unidad 5: Proceso de Selección de Métodos</center></font>\n",
    "<font face = \"Times New Roman\" size = \"4\"><center>Tema 5.2: Redes Neuronales</center></font>\n",
    "<font face = \"Times New Roman\" size = \"4\"><center>Subtema e: Instalación de TensorFlow</center></font></b>\n",
    "</div>"
   ]
  },
  {
   "cell_type": "markdown",
   "metadata": {},
   "source": [
    "## INSTALACIÓN DE TENSORFLOW\n",
    "\n",
    "#### Procedimiento de Verificación\n",
    "<br>\n",
    "<img src=\"./Imagenes/Jupyter.png\" style=\"width:200px;height:232px;\" class=\"center\">\n",
    "<br>\n",
    "\n",
    "**Jupiter Notebook** a través de **Anaconda Navigator** no contiene la librería **Keras** que se empleará en la implementación de la **Red Neuronal** de este tema. Sin embargo se realizó su instalación, la cual fue a través de la librería **TensorFlow** que contiene una implementación de **Keras**. \n",
    "\n",
    "Ahora se implementará la **Red Neuronal** a través de **TensorFlow**, para ello se deberá realizar el siguiente procedimiento:\n",
    "\n",
    "**1.** Ir a la pantalla principal de **Anaconda Navigator**, en el menú de la izquierda se selecciona el apartado `Environments` indicado con el círculo rojo:\n",
    "<br>\n",
    "<img src=\"./Imagenes/TF_P01.png\" style=\"width:800px;height:533px;\" class=\"center\">\n",
    "<br>\n",
    "**2.** A la derecha del apartado `Environments` se muestra el ambiente de desarrollo en el que actualmente se está trabajando (`base (root)`) junto con la lista de paquetes instalados. En el campo de búsqueda se escribe ***tensorflow*** y se mostrará la versión que está instalada actualmente (*probablemente la 2.3.1*):\n",
    "<br>\n",
    "<img src=\"./Imagenes/TF_P02.png\" style=\"width:800px;height:464px;\" class=\"center\">\n",
    "<br>\n",
    "**3.** En el caso de que no aparezca la librería **TensorFlow** instalada, y no se haya podido instalar previamente la librería **Keras**. se deberá abrir una ventana con la **Terminal** del sistema (independientemente de **Windows**, **macOS** o **Linux**) y se deberá escribir el siguiente comando:\n",
    "\n",
    "```python\n",
    "pip install tensorflow\n",
    "```\n",
    "Una vez que la instalación concluye, se inicia **Anaconda Navigator** desde donde se puede verificar en el apartado `Environments` que la librería ya ha sido instalada (como se describe en el paso número 2)."
   ]
  },
  {
   "cell_type": "markdown",
   "metadata": {},
   "source": [
    "<div class=\"alert alert-block alert-success\">\n",
    "<b>.: Fin del Subtema :.</b>\n",
    "</div>\n",
    "\n",
    "***Liga de aceso al siguiente Subtema:*** \n",
    "<br>[f. Red Neuronal con TensorFlow](f.%20Red%20Neuronal%20con%20TensorFlow.ipynb)"
   ]
  }
 ],
 "metadata": {
  "kernelspec": {
   "display_name": "Python 3",
   "language": "python",
   "name": "python3"
  },
  "language_info": {
   "codemirror_mode": {
    "name": "ipython",
    "version": 3
   },
   "file_extension": ".py",
   "mimetype": "text/x-python",
   "name": "python",
   "nbconvert_exporter": "python",
   "pygments_lexer": "ipython3",
   "version": "3.8.5"
  }
 },
 "nbformat": 4,
 "nbformat_minor": 2
}
