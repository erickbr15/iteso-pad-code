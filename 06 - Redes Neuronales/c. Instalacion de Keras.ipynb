{
 "cells": [
  {
   "cell_type": "markdown",
   "metadata": {},
   "source": [
    "<div class=\"alert alert-block alert-info\">\n",
    "<img src=\"./Imagenes/ITESO_Logo.png\" style=\"width:500px;height:142px;\" title=\"Logo ITESO\">\n",
    "<br><font face = \"Times New Roman\" size = \"6\"><b><center>Maestría en Sistemas Computacionales</center></b></font>\n",
    "<br><font face = \"Times New Roman\" size = \"5\"><b><center>Programación para Análisis de Datos</center></b></font>\n",
    "\n",
    "<b><br><font face = \"Times New Roman\" size = \"4\"><center>Unidad 5: Proceso de Selección de Métodos</center></font>\n",
    "<font face = \"Times New Roman\" size = \"4\"><center>Tema 5.2: Redes Neuronales</center></font>\n",
    "<font face = \"Times New Roman\" size = \"4\"><center>Subtema c: Instalación de Keras</center></font></b>\n",
    "</div>"
   ]
  },
  {
   "cell_type": "markdown",
   "metadata": {},
   "source": [
    "## INSTALACIÓN DE LA LIBRERÍA KERAS\n",
    "\n",
    "### Procedimiento de Instalación\n",
    "<br>\n",
    "<img src=\"./Imagenes/Jupyter.png\" style=\"width:200px;height:232px;\" class=\"center\">\n",
    "<br>\n",
    "\n",
    "**Jupiter Notebook** a través de **Anaconda Navigator** no contiene la librería **Keras** que se empleará en la implementación de la **Red Neuronal** de este tema. Para ello, se deberá realizar el siguiente procedimiento de 9 pasos:\n",
    "\n",
    "**1.** Ir a la pantalla principal de **Anaconda Navigator**, esta es:\n",
    "<br>\n",
    "<img src=\"./Imagenes/K_P01.png\" style=\"width:800px;height:547px;\" class=\"center\">\n",
    "<br>\n",
    "**2.** En el menú de la izquierda se selecciona el apartado `Environments` indicado con el círculo rojo, y a la derecha se muestra el ambiente de desarrollo en el que actualmente se está trabajando (`base (root)`) junto con la lista de paquetes instalados:\n",
    "<br>\n",
    "<img src=\"./Imagenes/K_P02.png\" style=\"width:800px;height:547px;\" class=\"center\">\n",
    "<br>\n",
    "**3.** Se debe seleccionar `Not Installed` del menú desplegable indicado con el círculo rojo:\n",
    "<br>\n",
    "<img src=\"./Imagenes/K_P03.png\" style=\"width:800px;height:547px;\" class=\"center\">\n",
    "<br>\n",
    "**4.** Ahora se presiona el botón `Update index...` indicado con el círculo rojo:\n",
    "<br>\n",
    "<img src=\"./Imagenes/K_P04.png\" style=\"width:800px;height:547px;\" class=\"center\">\n",
    "<br>\n",
    "**5.** En el espacio de búsqueda se escribe ***keras*** (indicado con el círculo rojo) y aparecerá la lista de paquetes que están disponibles para ser instalados:\n",
    "<br>\n",
    "<img src=\"./Imagenes/K_P05.png\" style=\"width:800px;height:464px;\" class=\"center\">\n",
    "<br>\n",
    "**6.** Se selecciona la primera opción indicada como `Keras` *Deep learning library for theano and tensorflow* y se presiona el botón `Apply` de la parte inferior derecha:\n",
    "<br>\n",
    "<img src=\"./Imagenes/K_P06.png\" style=\"width:800px;height:464px;\" class=\"center\">\n",
    "<br>\n",
    "***Nota Importante:*** Es posible que en el cuadro de diálogo aparezca el siguiente error: \"`UnsatisfiableError`\". Esto es debido a que **Keras** no está disponible para **Python** versión 3.8 (el error describe la versión de **Python** que se está ejecutando). En ese caso, se deberá hacer una **Instalación PIP** de la librería, para ello se deberán [seguir estos pasos](#Instalacion_PIP).\n",
    "\n",
    "**7.** Aparecerá una ventana que indica que 20 paquetes serán instalados. Una vez que esté habilitado el botón verde en la parte inferior derecha con la etiqueta `Apply`, se presiona:\n",
    "<br>\n",
    "<img src=\"./Imagenes/K_P07.png\" style=\"width:400px;height:384px;\" class=\"center\">\n",
    "<br>\n",
    "**8.** Se debe reiniciar **Anaconda Navigator**.\n",
    "\n",
    "**9.** Una vez reiniciado **Anaconda Navigator**, se ingresa a **Jupiter Notebook** de manera tradicional:\n",
    "<br>\n",
    "<img src=\"./Imagenes/K_P08.png\" style=\"width:800px;height:547px;\" class=\"center\">\n",
    "<br>"
   ]
  },
  {
   "cell_type": "markdown",
   "metadata": {},
   "source": [
    "<a id='Instalacion_PIP'></a>\n",
    "### Instalación PIP de Keras\n",
    "\n",
    "Para la instalación **PIP** de la librería **Keras**, se deberá abrir una ventana con la **Terminal** del sistema (independientemente de **Windows**, **macOS** o **Linux**) y se deberá escribir el siguiente comando:\n",
    "\n",
    "```python\n",
    "pip install keras\n",
    "```\n",
    "Una vez que la instalación concluye, se inicia **Anaconda Navigator** desde donde se puede verificar en el apartado `Environments` que la librería ya ha sido instalada, como se muestra en la siguiente figura:\n",
    "<br>\n",
    "<img src=\"./Imagenes/K_P09.png\" style=\"width:800px;height:464px;\" class=\"center\">\n",
    "<br>"
   ]
  },
  {
   "cell_type": "markdown",
   "metadata": {},
   "source": [
    "<div class=\"alert alert-block alert-success\">\n",
    "<b>.: Fin del Subtema :.</b>\n",
    "</div>\n",
    "\n",
    "***Liga de aceso al siguiente Subtema:*** \n",
    "<br>[d. Red Neuronal con Keras](d.%20Red%20Neuronal%20con%20Keras.ipynb)"
   ]
  }
 ],
 "metadata": {
  "kernelspec": {
   "display_name": "Python 3",
   "language": "python",
   "name": "python3"
  },
  "language_info": {
   "codemirror_mode": {
    "name": "ipython",
    "version": 3
   },
   "file_extension": ".py",
   "mimetype": "text/x-python",
   "name": "python",
   "nbconvert_exporter": "python",
   "pygments_lexer": "ipython3",
   "version": "3.8.5"
  }
 },
 "nbformat": 4,
 "nbformat_minor": 2
}
