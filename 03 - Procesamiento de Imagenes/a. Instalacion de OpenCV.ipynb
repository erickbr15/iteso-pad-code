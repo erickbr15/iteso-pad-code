{
 "cells": [
  {
   "cell_type": "markdown",
   "metadata": {},
   "source": [
    "<div class=\"alert alert-block alert-info\">\n",
    "<img src=\"./Imagenes/ITESO_Logo.png\" style=\"width:500px;height:142px;\" title=\"Logo ITESO\">\n",
    "<br><font face = \"Times New Roman\" size = \"6\"><b><center>Maestría en Sistemas Computacionales</center></b></font>\n",
    "<br><font face = \"Times New Roman\" size = \"5\"><b><center>Programación para Análisis de Datos</center></b></font>\n",
    "\n",
    "<b><br><font face = \"Times New Roman\" size = \"4\"><center>Unidad 2: Conceptos Generales</center></font>\n",
    "<font face = \"Times New Roman\" size = \"4\"><center>Tema 2.6: Conceptos del Procesamiento de Imágenes</center></font>\n",
    "<font face = \"Times New Roman\" size = \"4\"><center>Subtema a: Instalación de OpenCV</center></font></b>\n",
    "</div>"
   ]
  },
  {
   "cell_type": "markdown",
   "metadata": {},
   "source": [
    "## INSTALACIÓN DE OPENCV\n",
    "\n",
    "Para el procesamiento de imágenes y video en **Python** se empleará la librería **OpenCV**.\n",
    "\n",
    "#### La Librería OpenCV\n",
    "<br>\n",
    "<img src=\"./Imagenes/opencv_logo.png\" style=\"width:593px;height:200px;\" class=\"center\">\n",
    "<br>\n",
    "\n",
    "La visión artificial o por computadora se está utilizando cada vez más para el análisis y procesamiento de imágenes mediante algoritmos de inteligencia artificial.\n",
    "\n",
    "**OpenCV** es una librería para **Python** cuyo principal uso es en el campo de visión por computadora para la detección de rostros y objetos, especialmente en ámbitos como la fotografía, el análisis de imágenes, el desarrollo y mercadeo de productos, así como en aplicaciones de seguridad.\n",
    "\n",
    "**OpenCV** (***Open Source Computer Vision***) comenzó como un proyecto de investigación en ***Intel***. Actualmente es la biblioteca de visión por computadora más grande en términos de las funciones con las que cuenta. Contiene implementaciones de más de 2500 algoritmos y está disponible de forma gratuita para fines comerciales y académicos.\n",
    "\n",
    "Esta gran biblioteca tiene interfaces para múltiples lenguajes, incluidos **Python**, **Java** y **C++**. Se vincula directamente con la librería **NumPy** así como con **Matplotlib**. \n",
    "\n",
    "La documentación de **OpenCV** se puede encontrar a través [de esta liga](https://opencv.org).\n",
    "\n",
    "Para importar la librería se empleará la función `import cv2`, a partir de ello se podrá hacer uso de los distintos métodos. \n",
    "\n",
    "Sin embargo, **Jupiter Notebook** a través de **Anaconda Navigator** no contiene la librería **OpenCV** que se empleará en el **Procesamiento de Imágenes**. Se debe realizar su instalación por medio de los siguientes pasos:\n",
    "* Instalación en **Windows**: [Seguir estos pasos](#Instalacion_Windows).\n",
    "* Instalación en **macOS**: [Seguir estos pasos](#Instalacion_macOS)."
   ]
  },
  {
   "cell_type": "markdown",
   "metadata": {},
   "source": [
    "<a id='Instalacion_Windows'></a>\n",
    "#### Instalación en Windows\n",
    "\n",
    "Para realizar la instalación de la librería **OpenCV** en **Windows**, se deberá realizar el siguiente procedimiento de 6 pasos:\n",
    "\n",
    "**1.** Ir a la pantalla principal de **Anaconda Navigator** por medio de la aplicación ***Anaconda Navigator*** que se puede ejecutar desde el menú inicio de **Windows**, esta es:\n",
    "<br>\n",
    "<img src=\"./Imagenes/Win01.png\" style=\"width:800px;height:500px;\" class=\"center\">\n",
    "<br>\n",
    "**2.** En el menú de la izquierda se selecciona el apartado `Environments` indicado con el círculo rojo, y a la derecha se muestra el apartado en el que actualmente se está trabajando (`base (root)`). Se seleccionará en el menú desplegable la opción `Not installed` y en el cuadro de diálogo se escribe `opencv`. Finalmente se presiona el botón `Update index...` como se muestra en la figura:\n",
    "<br>\n",
    "<img src=\"./Imagenes/Win02.png\" style=\"width:800px;height:500px;\" class=\"center\">\n",
    "<br>\n",
    "**3.** Una vez que se muestra el paquete a ser instalado, se seleccionará la opción indicada como `opencv` *Computer vision and machine learning software library* y se presiona el botón `Apply` de la parte inferior derecha como se muestra en la figura:\n",
    "<br>\n",
    "<img src=\"./Imagenes/Win03.png\" style=\"width:800px;height:500px;\" class=\"center\">\n",
    "<br>\n",
    "**4.** Aparecerá una ventana indicando que 3 paquetes serán instalados. Una vez que esté habilitado el botón verde en la parte inferior derecha con la etiqueta `Apply`, se presiona. ***Nota:*** La instalación se llevará un tiempo.\n",
    "<br>\n",
    "<img src=\"./Imagenes/Win04.png\" style=\"width:800px;height:500px;\" class=\"center\">\n",
    "<br>\n",
    "**5.** Finalmente, en el menú desplegable se selecciona la opción `Installed` para verificar que **OpenCV** ya ha quedado instalado.\n",
    "<br>\n",
    "<img src=\"./Imagenes/Win05.png\" style=\"width:800px;height:500px;\" class=\"center\">\n",
    "<br>\n",
    "**6.** Se debe reiniciar **Anaconda Navigator** para que los cambios se apliquen. Posteriormente se ingresa a **Jupiter Notebook** de manera tradicional."
   ]
  },
  {
   "cell_type": "markdown",
   "metadata": {},
   "source": [
    "<a id='Instalacion_macOS'></a>\n",
    "#### Instalación en macOS\n",
    "\n",
    "Para realizar la instalación de la librería **OpenCV** en **macOS**, se deberá realizar el siguiente procedimiento de 3 pasos:\n",
    "\n",
    "**1.** Se abre una **Terminal** a través del **Finder**, se puede escribir ***terminal*** para identificarla rápidamente como se muestra en la figura:\n",
    "<br>\n",
    "<img src=\"./Imagenes/Mac01.png\" style=\"width:800px;height:500px;\" class=\"center\">\n",
    "<br>\n",
    "**2.** Una vez que se inicia la **Terminal**, se escribirá el comando `pip install opencv-python` y se presiona ***Enter***. Se ejecutará automáticamente la descarga e instalación de la librería mostrando el resultado de manera similar a la siguiente figura:\n",
    "<br>\n",
    "<img src=\"./Imagenes/Mac02.png\" style=\"width:661px;height:400px;\" class=\"center\">\n",
    "<br>\n",
    "**3.** La ventana de la **Terminal** se puede cerrar, y a continuación se ejecuta **Anaconda Navigator**. En el menú de la izquierda se selecciona el apartado `Environments` y en el menú desplegable se selecciona la opción `Installed` como se muestra con el círculo rojo, escribiendo `opencv` en el campo de búsqueda. ***Nota:*** Este paso es sólamente para verificar que **OpenCV** ha quedado instalado adecuadamente.\n",
    "<br>\n",
    "<img src=\"./Imagenes/Mac03.png\" style=\"width:861px;height:500px;\" class=\"center\">\n",
    "<br>"
   ]
  },
  {
   "cell_type": "markdown",
   "metadata": {},
   "source": [
    "<div class=\"alert alert-block alert-success\">\n",
    "<b>.: Fin del Subtema :.</b>\n",
    "</div>\n",
    "\n",
    "***Liga de aceso al siguiente Subtema:*** \n",
    "<br>[b. Fundamentos de OpenCV](b.%20Fundamentos%20de%20OpenCV.ipynb)"
   ]
  }
 ],
 "metadata": {
  "kernelspec": {
   "display_name": "Python 3",
   "language": "python",
   "name": "python3"
  },
  "language_info": {
   "codemirror_mode": {
    "name": "ipython",
    "version": 3
   },
   "file_extension": ".py",
   "mimetype": "text/x-python",
   "name": "python",
   "nbconvert_exporter": "python",
   "pygments_lexer": "ipython3",
   "version": "3.8.3"
  }
 },
 "nbformat": 4,
 "nbformat_minor": 2
}
