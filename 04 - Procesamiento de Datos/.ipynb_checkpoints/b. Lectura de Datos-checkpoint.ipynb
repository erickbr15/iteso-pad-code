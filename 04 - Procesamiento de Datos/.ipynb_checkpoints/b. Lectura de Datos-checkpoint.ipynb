{
 "cells": [
  {
   "cell_type": "markdown",
   "metadata": {},
   "source": [
    "<div class=\"alert alert-block alert-info\">\n",
    "<img src=\"./Imagenes/ITESO_Logo.png\" style=\"width:500px;height:142px;\" title=\"Logo ITESO\">\n",
    "<br><font face = \"Times New Roman\" size = \"6\"><b><center>Maestría en Sistemas Computacionales</center></b></font>\n",
    "<br><font face = \"Times New Roman\" size = \"5\"><b><center>Programación para Análisis de Datos</center></b></font>\n",
    "\n",
    "<b><br><font face = \"Times New Roman\" size = \"4\"><center>Unidad 4: Proceso de Obtención de Datos</center></font>\n",
    "<font face = \"Times New Roman\" size = \"4\"><center>Tema 4.1: Exploración, Integración y Limpieza de Datos</center></font>\n",
    "<font face = \"Times New Roman\" size = \"4\"><center>Subtema b: Lectura de Datos</center></font></b>\n",
    "</div>"
   ]
  },
  {
   "cell_type": "markdown",
   "metadata": {},
   "source": [
    "## LECTURA DE DATOS\n",
    "\n",
    "La librería **Pandas** permite insertar datos desde varios formatos de archivo hacia un **DataFrame** de manera sencilla.\n",
    "\n",
    "### Lectura de Datos desde un Archivo CSV\n",
    "Cuando se tiene un archivo en formato `CSV` (*Comma-Separated Values*) que contiene los datos a ser insertados dentro de un **DataFrame** de **Pandas**, se emplea el método `.read_csv()` donde el argumento consiste en el nombre del archivo.\n",
    "\n",
    "Para este ejemplo se empleará un archivo de nombre `Compras.csv` el cual contiene la información de la compra de manzanas y naranjas que se generó en el *Subtema a*, esto es:"
   ]
  },
  {
   "cell_type": "code",
   "execution_count": 1,
   "metadata": {},
   "outputs": [
    {
     "name": "stdout",
     "output_type": "stream",
     "text": [
      "El DataFrame es:\n"
     ]
    },
    {
     "data": {
      "text/html": [
       "<div>\n",
       "<style scoped>\n",
       "    .dataframe tbody tr th:only-of-type {\n",
       "        vertical-align: middle;\n",
       "    }\n",
       "\n",
       "    .dataframe tbody tr th {\n",
       "        vertical-align: top;\n",
       "    }\n",
       "\n",
       "    .dataframe thead th {\n",
       "        text-align: right;\n",
       "    }\n",
       "</style>\n",
       "<table border=\"1\" class=\"dataframe\">\n",
       "  <thead>\n",
       "    <tr style=\"text-align: right;\">\n",
       "      <th></th>\n",
       "      <th>Unnamed: 0</th>\n",
       "      <th>Manzana</th>\n",
       "      <th>Naranja</th>\n",
       "    </tr>\n",
       "  </thead>\n",
       "  <tbody>\n",
       "    <tr>\n",
       "      <th>0</th>\n",
       "      <td>María</td>\n",
       "      <td>3</td>\n",
       "      <td>0</td>\n",
       "    </tr>\n",
       "    <tr>\n",
       "      <th>1</th>\n",
       "      <td>Roberto</td>\n",
       "      <td>2</td>\n",
       "      <td>3</td>\n",
       "    </tr>\n",
       "    <tr>\n",
       "      <th>2</th>\n",
       "      <td>Lily</td>\n",
       "      <td>0</td>\n",
       "      <td>7</td>\n",
       "    </tr>\n",
       "    <tr>\n",
       "      <th>3</th>\n",
       "      <td>David</td>\n",
       "      <td>1</td>\n",
       "      <td>2</td>\n",
       "    </tr>\n",
       "  </tbody>\n",
       "</table>\n",
       "</div>"
      ],
      "text/plain": [
       "  Unnamed: 0  Manzana  Naranja\n",
       "0      María        3        0\n",
       "1    Roberto        2        3\n",
       "2       Lily        0        7\n",
       "3      David        1        2"
      ]
     },
     "execution_count": 1,
     "metadata": {},
     "output_type": "execute_result"
    }
   ],
   "source": [
    "#Importación de librerías\n",
    "import pandas as pd\n",
    "\n",
    "#Creación del DataFrame a partir del Archivo CSV\n",
    "df = pd.read_csv('./Datos/Compras.csv')\n",
    "\n",
    "#Impresión de los Resultados\n",
    "print(\"El DataFrame es:\")\n",
    "df"
   ]
  },
  {
   "cell_type": "markdown",
   "metadata": {},
   "source": [
    "Los archivos `CSV` no tienen **Indices** como el **DataFrame**, es por ello que se requiere asignarlo empleando el argumento `index_col = valor` al momento de hacer la lectura, donde `valor` corresponde a la columna que fungirá como **Indice**, esto es: "
   ]
  },
  {
   "cell_type": "code",
   "execution_count": 2,
   "metadata": {},
   "outputs": [
    {
     "name": "stdout",
     "output_type": "stream",
     "text": [
      "El DataFrame es:\n"
     ]
    },
    {
     "data": {
      "text/html": [
       "<div>\n",
       "<style scoped>\n",
       "    .dataframe tbody tr th:only-of-type {\n",
       "        vertical-align: middle;\n",
       "    }\n",
       "\n",
       "    .dataframe tbody tr th {\n",
       "        vertical-align: top;\n",
       "    }\n",
       "\n",
       "    .dataframe thead th {\n",
       "        text-align: right;\n",
       "    }\n",
       "</style>\n",
       "<table border=\"1\" class=\"dataframe\">\n",
       "  <thead>\n",
       "    <tr style=\"text-align: right;\">\n",
       "      <th></th>\n",
       "      <th>Manzana</th>\n",
       "      <th>Naranja</th>\n",
       "    </tr>\n",
       "  </thead>\n",
       "  <tbody>\n",
       "    <tr>\n",
       "      <th>María</th>\n",
       "      <td>3</td>\n",
       "      <td>0</td>\n",
       "    </tr>\n",
       "    <tr>\n",
       "      <th>Roberto</th>\n",
       "      <td>2</td>\n",
       "      <td>3</td>\n",
       "    </tr>\n",
       "    <tr>\n",
       "      <th>Lily</th>\n",
       "      <td>0</td>\n",
       "      <td>7</td>\n",
       "    </tr>\n",
       "    <tr>\n",
       "      <th>David</th>\n",
       "      <td>1</td>\n",
       "      <td>2</td>\n",
       "    </tr>\n",
       "  </tbody>\n",
       "</table>\n",
       "</div>"
      ],
      "text/plain": [
       "         Manzana  Naranja\n",
       "María          3        0\n",
       "Roberto        2        3\n",
       "Lily           0        7\n",
       "David          1        2"
      ]
     },
     "execution_count": 2,
     "metadata": {},
     "output_type": "execute_result"
    }
   ],
   "source": [
    "#Creación del DataFrame a partir del Archivo CSV\n",
    "df = pd.read_csv('./Datos/Compras.csv', index_col = 0)\n",
    "\n",
    "#Impresión de los Resultados\n",
    "print(\"El DataFrame es:\")\n",
    "df"
   ]
  },
  {
   "cell_type": "markdown",
   "metadata": {},
   "source": [
    "### Lectura de Datos desde un Archivo JSON\n",
    "Cuando se tiene un archivo en formato `JSON` (*JavaScript Object Notation*) que contiene los datos a ser insertados dentro de un **DataFrame** de **Pandas**, se emplea el método `.read_json()` donde el argumento consiste en el nombre del archivo.\n",
    "\n",
    "Para este ejemplo se empleará un archivo de nombre `Compras.json` el cual contiene la información de la compra de manzanas y naranjas que se generó en el *Subtema a*, esto es:"
   ]
  },
  {
   "cell_type": "code",
   "execution_count": 3,
   "metadata": {},
   "outputs": [
    {
     "name": "stdout",
     "output_type": "stream",
     "text": [
      "El DataFrame es:\n"
     ]
    },
    {
     "data": {
      "text/html": [
       "<div>\n",
       "<style scoped>\n",
       "    .dataframe tbody tr th:only-of-type {\n",
       "        vertical-align: middle;\n",
       "    }\n",
       "\n",
       "    .dataframe tbody tr th {\n",
       "        vertical-align: top;\n",
       "    }\n",
       "\n",
       "    .dataframe thead th {\n",
       "        text-align: right;\n",
       "    }\n",
       "</style>\n",
       "<table border=\"1\" class=\"dataframe\">\n",
       "  <thead>\n",
       "    <tr style=\"text-align: right;\">\n",
       "      <th></th>\n",
       "      <th>Manzana</th>\n",
       "      <th>Naranja</th>\n",
       "    </tr>\n",
       "  </thead>\n",
       "  <tbody>\n",
       "    <tr>\n",
       "      <th>María</th>\n",
       "      <td>3</td>\n",
       "      <td>0</td>\n",
       "    </tr>\n",
       "    <tr>\n",
       "      <th>Roberto</th>\n",
       "      <td>2</td>\n",
       "      <td>3</td>\n",
       "    </tr>\n",
       "    <tr>\n",
       "      <th>Lily</th>\n",
       "      <td>0</td>\n",
       "      <td>7</td>\n",
       "    </tr>\n",
       "    <tr>\n",
       "      <th>David</th>\n",
       "      <td>1</td>\n",
       "      <td>2</td>\n",
       "    </tr>\n",
       "  </tbody>\n",
       "</table>\n",
       "</div>"
      ],
      "text/plain": [
       "         Manzana  Naranja\n",
       "María          3        0\n",
       "Roberto        2        3\n",
       "Lily           0        7\n",
       "David          1        2"
      ]
     },
     "execution_count": 3,
     "metadata": {},
     "output_type": "execute_result"
    }
   ],
   "source": [
    "#Creación del DataFrame a partir del Archivo JSON\n",
    "df = pd.read_json('./Datos/Compras.json')\n",
    "\n",
    "#Impresión de los Resultados\n",
    "print(\"El DataFrame es:\")\n",
    "df"
   ]
  },
  {
   "cell_type": "markdown",
   "metadata": {},
   "source": [
    "### Lectura de Datos desde una base de datos SQL\n",
    "Cuando se tiene un archivo en formato `SQL` (*Structured Query Language*) que contiene los datos a ser insertados dentro de un **DataFrame** de **Pandas**, es necesario establecer una conexión a través de una librería adecuada de **Python** para posteriormente pasar una consulta a **Pandas**. Para ello se empleará la librería **SQLite**.\n",
    "\n",
    "#### Librería SQLite\n",
    "<img src=\"./Imagenes/SQLite3_Logo.png\" style=\"width:211px;height:100px;\" title=\"Logo ITESO\">\n",
    "\n",
    "La librería **SQLite** está basada en el lenguaje **C** e implementa un motor `SQL` que es pequeño, rápido, altamente confiable y con todas las características disponibles, siendo el motor de bases de datos más empleado a nivel mundial. \n",
    "\n",
    "Por otro lado, **SQLite** es una base de datos *Serverless* que se puede utilizar en casi todos los lenguajes de programación, incluido **Python**. El término *Serverless* significa que no hay necesidad de instalar un servidor separado para trabajar con **SQLite** para que pueda conectarse directamente con la base de datos.\n",
    "\n",
    "La documentación detallada de la librería **SQLite** se puede consultar [en esta liga](https://www.sqlite.org/index.html).\n",
    "\n",
    "***Nota:*** Se hará uso de la librería **SQLite** solo con fines demostrativos, no se profundizará en este tema en particular. Como recomendación para el manejo de archivos de extensión `DB` se puede emplear el software gratuito **DB Browser for SQLite** que puede ser descargado para **Windows**, **macOS** y **Linux** [en esta liga](https://sqlitebrowser.org/dl).\n",
    "\n",
    "La librería se importará por medio del comando:\n",
    "```python\n",
    "import sqlite3\n",
    "```\n",
    "Posteriormente se empleará el método `.read_sql_query(a,b)` donde los argumentos son:\n",
    "\n",
    "* El argumento a: Se pasa una consulta *SELECT* a la base de datos a emplear.\n",
    "* El argumento b: Se realiza una conexión al archivo `SQL` que contiene la base de datos por medio del método `.connect()`.\n",
    "\n",
    "Para este ejemplo se empleará un archivo de nombre `Compras.db` el cual contiene la información de la compra de manzanas y naranjas que se generó en el *Subtema a*, donde la tabla tiene el nombre `Compras` y su **Indice** tiene el nombre `Indice`. Esto es:"
   ]
  },
  {
   "cell_type": "code",
   "execution_count": 4,
   "metadata": {},
   "outputs": [
    {
     "name": "stdout",
     "output_type": "stream",
     "text": [
      "El DataFrame es:\n"
     ]
    },
    {
     "data": {
      "text/html": [
       "<div>\n",
       "<style scoped>\n",
       "    .dataframe tbody tr th:only-of-type {\n",
       "        vertical-align: middle;\n",
       "    }\n",
       "\n",
       "    .dataframe tbody tr th {\n",
       "        vertical-align: top;\n",
       "    }\n",
       "\n",
       "    .dataframe thead th {\n",
       "        text-align: right;\n",
       "    }\n",
       "</style>\n",
       "<table border=\"1\" class=\"dataframe\">\n",
       "  <thead>\n",
       "    <tr style=\"text-align: right;\">\n",
       "      <th></th>\n",
       "      <th>Indice</th>\n",
       "      <th>Manzana</th>\n",
       "      <th>Naranja</th>\n",
       "    </tr>\n",
       "  </thead>\n",
       "  <tbody>\n",
       "    <tr>\n",
       "      <th>0</th>\n",
       "      <td>María</td>\n",
       "      <td>3</td>\n",
       "      <td>0</td>\n",
       "    </tr>\n",
       "    <tr>\n",
       "      <th>1</th>\n",
       "      <td>Roberto</td>\n",
       "      <td>2</td>\n",
       "      <td>3</td>\n",
       "    </tr>\n",
       "    <tr>\n",
       "      <th>2</th>\n",
       "      <td>Lily</td>\n",
       "      <td>0</td>\n",
       "      <td>7</td>\n",
       "    </tr>\n",
       "    <tr>\n",
       "      <th>3</th>\n",
       "      <td>David</td>\n",
       "      <td>1</td>\n",
       "      <td>2</td>\n",
       "    </tr>\n",
       "  </tbody>\n",
       "</table>\n",
       "</div>"
      ],
      "text/plain": [
       "    Indice  Manzana  Naranja\n",
       "0    María        3        0\n",
       "1  Roberto        2        3\n",
       "2     Lily        0        7\n",
       "3    David        1        2"
      ]
     },
     "execution_count": 4,
     "metadata": {},
     "output_type": "execute_result"
    }
   ],
   "source": [
    "#Importación de librerías\n",
    "import sqlite3\n",
    "\n",
    "#Creación del DataFrame a partir del Archivo DB\n",
    "df = pd.read_sql_query(\"SELECT * FROM Compras\", sqlite3.connect('./Datos/Compras.db'))\n",
    "\n",
    "#Impresión de los Resultados\n",
    "print(\"El DataFrame es:\")\n",
    "df"
   ]
  },
  {
   "cell_type": "markdown",
   "metadata": {},
   "source": [
    "### Definición del Indice\n",
    "\n",
    "Una vez que se ha generado el **DataFrame** de **Pandas**, ya sea a través de un archivo `CSV`, un `JSON` o un `DB`, se puede definir una de las columas como el **Indice** por medio del método `set_index()` donde el argumento es el nombre de la columna que será el nuevo **Indice**.\n",
    "\n",
    "Hay dos manera de realizarlo:\n",
    "\n",
    "1. La primer forma es asignando al **DataFrame** su propio valor pero empleando el método `set_index()`, esto es: \n",
    "```python\n",
    "df = df.set_index('Indice')\n",
    "```\n",
    "2. La otra manera es simplemente aplicar el método `set_index()` al **DataFrame**, pero se debe de incluir el argumento `inplace = True` para que se realice la asignación. Generalmente es la forma más empleada, esto es:\n",
    "```python\n",
    "df.set_index('Indice', inplace = True)\n",
    "```\n",
    "\n",
    "***Nota:*** Para **Pandas**, la columna que queda definida como el **Indice** del **DataFrame** siempre se mostrará un poco más abajo en relación a los nombres de las columnas restantes."
   ]
  },
  {
   "cell_type": "code",
   "execution_count": 5,
   "metadata": {},
   "outputs": [
    {
     "name": "stdout",
     "output_type": "stream",
     "text": [
      "El DataFrame es:\n"
     ]
    },
    {
     "data": {
      "text/html": [
       "<div>\n",
       "<style scoped>\n",
       "    .dataframe tbody tr th:only-of-type {\n",
       "        vertical-align: middle;\n",
       "    }\n",
       "\n",
       "    .dataframe tbody tr th {\n",
       "        vertical-align: top;\n",
       "    }\n",
       "\n",
       "    .dataframe thead th {\n",
       "        text-align: right;\n",
       "    }\n",
       "</style>\n",
       "<table border=\"1\" class=\"dataframe\">\n",
       "  <thead>\n",
       "    <tr style=\"text-align: right;\">\n",
       "      <th></th>\n",
       "      <th>Manzana</th>\n",
       "      <th>Naranja</th>\n",
       "    </tr>\n",
       "    <tr>\n",
       "      <th>Indice</th>\n",
       "      <th></th>\n",
       "      <th></th>\n",
       "    </tr>\n",
       "  </thead>\n",
       "  <tbody>\n",
       "    <tr>\n",
       "      <th>María</th>\n",
       "      <td>3</td>\n",
       "      <td>0</td>\n",
       "    </tr>\n",
       "    <tr>\n",
       "      <th>Roberto</th>\n",
       "      <td>2</td>\n",
       "      <td>3</td>\n",
       "    </tr>\n",
       "    <tr>\n",
       "      <th>Lily</th>\n",
       "      <td>0</td>\n",
       "      <td>7</td>\n",
       "    </tr>\n",
       "    <tr>\n",
       "      <th>David</th>\n",
       "      <td>1</td>\n",
       "      <td>2</td>\n",
       "    </tr>\n",
       "  </tbody>\n",
       "</table>\n",
       "</div>"
      ],
      "text/plain": [
       "         Manzana  Naranja\n",
       "Indice                   \n",
       "María          3        0\n",
       "Roberto        2        3\n",
       "Lily           0        7\n",
       "David          1        2"
      ]
     },
     "execution_count": 5,
     "metadata": {},
     "output_type": "execute_result"
    }
   ],
   "source": [
    "#Definición del Indice, primera forma\n",
    "#df = df.set_index('Indice')\n",
    "\n",
    "#Definición del Indice, segunda forma\n",
    "df.set_index('Indice', inplace = True)\n",
    "\n",
    "#Impresión de los Resultados\n",
    "print(\"El DataFrame es:\")\n",
    "df"
   ]
  },
  {
   "cell_type": "markdown",
   "metadata": {},
   "source": [
    "### En Resumen\n",
    "Para resumir el proceso, se va a generar un **DataFrame** a partir del archivo `Compras.csv` que se empleó previamente. Para ello se realizarán las siguientes acciones:\n",
    "\n",
    "1. Leer el archivo `Compras.csv` y asignarlo a un **DataFrame** llamado `Compras_df`.\n",
    "2. Definir el nombre del **Indice** como `Nombre`.\n",
    "3. Mostrar el **DataFrame**."
   ]
  },
  {
   "cell_type": "code",
   "execution_count": 6,
   "metadata": {},
   "outputs": [
    {
     "name": "stdout",
     "output_type": "stream",
     "text": [
      "El DataFrame es:\n"
     ]
    },
    {
     "data": {
      "text/html": [
       "<div>\n",
       "<style scoped>\n",
       "    .dataframe tbody tr th:only-of-type {\n",
       "        vertical-align: middle;\n",
       "    }\n",
       "\n",
       "    .dataframe tbody tr th {\n",
       "        vertical-align: top;\n",
       "    }\n",
       "\n",
       "    .dataframe thead th {\n",
       "        text-align: right;\n",
       "    }\n",
       "</style>\n",
       "<table border=\"1\" class=\"dataframe\">\n",
       "  <thead>\n",
       "    <tr style=\"text-align: right;\">\n",
       "      <th></th>\n",
       "      <th>Manzana</th>\n",
       "      <th>Naranja</th>\n",
       "    </tr>\n",
       "    <tr>\n",
       "      <th>Nombre</th>\n",
       "      <th></th>\n",
       "      <th></th>\n",
       "    </tr>\n",
       "  </thead>\n",
       "  <tbody>\n",
       "    <tr>\n",
       "      <th>María</th>\n",
       "      <td>3</td>\n",
       "      <td>0</td>\n",
       "    </tr>\n",
       "    <tr>\n",
       "      <th>Roberto</th>\n",
       "      <td>2</td>\n",
       "      <td>3</td>\n",
       "    </tr>\n",
       "    <tr>\n",
       "      <th>Lily</th>\n",
       "      <td>0</td>\n",
       "      <td>7</td>\n",
       "    </tr>\n",
       "    <tr>\n",
       "      <th>David</th>\n",
       "      <td>1</td>\n",
       "      <td>2</td>\n",
       "    </tr>\n",
       "  </tbody>\n",
       "</table>\n",
       "</div>"
      ],
      "text/plain": [
       "         Manzana  Naranja\n",
       "Nombre                   \n",
       "María          3        0\n",
       "Roberto        2        3\n",
       "Lily           0        7\n",
       "David          1        2"
      ]
     },
     "execution_count": 6,
     "metadata": {},
     "output_type": "execute_result"
    }
   ],
   "source": [
    "#Creación del DataFrame a partir del Archivo CSV\n",
    "Compras_df = pd.read_csv('./Datos/Compras.csv', index_col = 0)\n",
    "\n",
    "#Renombrado del Indice\n",
    "Compras_df.index.name = 'Nombre'\n",
    "\n",
    "#Impresión de los Resultados\n",
    "print(\"El DataFrame es:\")\n",
    "Compras_df"
   ]
  },
  {
   "cell_type": "markdown",
   "metadata": {},
   "source": [
    "Ahora se va a generar un nuevo **DataFrame** con las mismas características que `Compras_df` pero con otro nombre y con datos adicionales. Para ello se realizarán las siguientes acciones:\n",
    "\n",
    "1. Crear un nuevo **DataFrame** llamado `Nuevo_df` a partir de un **Diccionario** con los nuevos valores.\n",
    "2. Definir el **Indice** del nuevo **DataFrame**.\n",
    "3. Mostrar el **DataFrame**."
   ]
  },
  {
   "cell_type": "code",
   "execution_count": 7,
   "metadata": {},
   "outputs": [
    {
     "name": "stdout",
     "output_type": "stream",
     "text": [
      "El DataFrame es:\n"
     ]
    },
    {
     "data": {
      "text/html": [
       "<div>\n",
       "<style scoped>\n",
       "    .dataframe tbody tr th:only-of-type {\n",
       "        vertical-align: middle;\n",
       "    }\n",
       "\n",
       "    .dataframe tbody tr th {\n",
       "        vertical-align: top;\n",
       "    }\n",
       "\n",
       "    .dataframe thead th {\n",
       "        text-align: right;\n",
       "    }\n",
       "</style>\n",
       "<table border=\"1\" class=\"dataframe\">\n",
       "  <thead>\n",
       "    <tr style=\"text-align: right;\">\n",
       "      <th></th>\n",
       "      <th>Manzana</th>\n",
       "      <th>Naranja</th>\n",
       "    </tr>\n",
       "    <tr>\n",
       "      <th>Nombre</th>\n",
       "      <th></th>\n",
       "      <th></th>\n",
       "    </tr>\n",
       "  </thead>\n",
       "  <tbody>\n",
       "    <tr>\n",
       "      <th>Eva</th>\n",
       "      <td>5</td>\n",
       "      <td>10</td>\n",
       "    </tr>\n",
       "    <tr>\n",
       "      <th>Priscila</th>\n",
       "      <td>8</td>\n",
       "      <td>14</td>\n",
       "    </tr>\n",
       "    <tr>\n",
       "      <th>Javier</th>\n",
       "      <td>12</td>\n",
       "      <td>3</td>\n",
       "    </tr>\n",
       "  </tbody>\n",
       "</table>\n",
       "</div>"
      ],
      "text/plain": [
       "          Manzana  Naranja\n",
       "Nombre                    \n",
       "Eva             5       10\n",
       "Priscila        8       14\n",
       "Javier         12        3"
      ]
     },
     "execution_count": 7,
     "metadata": {},
     "output_type": "execute_result"
    }
   ],
   "source": [
    "#Creación del nuevo DataFrame\n",
    "Nuevo_df = pd.DataFrame({\n",
    "    'Nombre':  ['Eva', 'Priscila', 'Javier'],\n",
    "    'Manzana': [5, 8, 12], \n",
    "    'Naranja': [10, 14, 3]\n",
    "})\n",
    "\n",
    "#Definición del Indice\n",
    "Nuevo_df.set_index('Nombre', inplace = True)\n",
    "\n",
    "#Impresión de los Resultados\n",
    "print(\"El DataFrame es:\")\n",
    "Nuevo_df"
   ]
  },
  {
   "cell_type": "markdown",
   "metadata": {},
   "source": [
    "Como ambos **DataFrames** (`Compras_df` y `Nuevo_df`) tienen la misma estrucrura, es posible unirlos por medio del método `.append()` de **Pandas**.\n",
    "\n",
    "En este caso, se agregará `Nuevo_df` a `Compras_df`.\n",
    "\n",
    "La descripción detallada del método `.append()` puede consultarse a través [de esta liga](https://pandas.pydata.org/pandas-docs/stable/reference/api/pandas.DataFrame.append.html)."
   ]
  },
  {
   "cell_type": "code",
   "execution_count": 8,
   "metadata": {},
   "outputs": [
    {
     "name": "stdout",
     "output_type": "stream",
     "text": [
      "El DataFrame es:\n"
     ]
    },
    {
     "data": {
      "text/html": [
       "<div>\n",
       "<style scoped>\n",
       "    .dataframe tbody tr th:only-of-type {\n",
       "        vertical-align: middle;\n",
       "    }\n",
       "\n",
       "    .dataframe tbody tr th {\n",
       "        vertical-align: top;\n",
       "    }\n",
       "\n",
       "    .dataframe thead th {\n",
       "        text-align: right;\n",
       "    }\n",
       "</style>\n",
       "<table border=\"1\" class=\"dataframe\">\n",
       "  <thead>\n",
       "    <tr style=\"text-align: right;\">\n",
       "      <th></th>\n",
       "      <th>Manzana</th>\n",
       "      <th>Naranja</th>\n",
       "    </tr>\n",
       "    <tr>\n",
       "      <th>Nombre</th>\n",
       "      <th></th>\n",
       "      <th></th>\n",
       "    </tr>\n",
       "  </thead>\n",
       "  <tbody>\n",
       "    <tr>\n",
       "      <th>María</th>\n",
       "      <td>3</td>\n",
       "      <td>0</td>\n",
       "    </tr>\n",
       "    <tr>\n",
       "      <th>Roberto</th>\n",
       "      <td>2</td>\n",
       "      <td>3</td>\n",
       "    </tr>\n",
       "    <tr>\n",
       "      <th>Lily</th>\n",
       "      <td>0</td>\n",
       "      <td>7</td>\n",
       "    </tr>\n",
       "    <tr>\n",
       "      <th>David</th>\n",
       "      <td>1</td>\n",
       "      <td>2</td>\n",
       "    </tr>\n",
       "    <tr>\n",
       "      <th>Eva</th>\n",
       "      <td>5</td>\n",
       "      <td>10</td>\n",
       "    </tr>\n",
       "    <tr>\n",
       "      <th>Priscila</th>\n",
       "      <td>8</td>\n",
       "      <td>14</td>\n",
       "    </tr>\n",
       "    <tr>\n",
       "      <th>Javier</th>\n",
       "      <td>12</td>\n",
       "      <td>3</td>\n",
       "    </tr>\n",
       "  </tbody>\n",
       "</table>\n",
       "</div>"
      ],
      "text/plain": [
       "          Manzana  Naranja\n",
       "Nombre                    \n",
       "María           3        0\n",
       "Roberto         2        3\n",
       "Lily            0        7\n",
       "David           1        2\n",
       "Eva             5       10\n",
       "Priscila        8       14\n",
       "Javier         12        3"
      ]
     },
     "execution_count": 8,
     "metadata": {},
     "output_type": "execute_result"
    }
   ],
   "source": [
    "#Agregación de los DataFrames\n",
    "Compras_df = Compras_df.append(Nuevo_df)\n",
    "\n",
    "#Impresión de los Resultados\n",
    "print(\"El DataFrame es:\")\n",
    "Compras_df"
   ]
  },
  {
   "cell_type": "markdown",
   "metadata": {},
   "source": [
    "### Guardar los Cambios en Archivos CSV, JSON y SQL\n",
    "\n",
    "Finalmente, los datos del nuevo **DataFrame** `Compras_df` se pueden guardar en archivos con formato `CSV`, `JSON` o `DB`. Esto se realiza de manera similar a la lectura de datos, ya que **Pandas** proporciona comandos sencillos para realizarlo:\n",
    "\n",
    "* Se emplea el método `.to_csv()` para guardar el archivo `CSV`, donde el argumento corresponde al nombre del archivo.\n",
    "* Se emplea el método `.to_json()` para guardar el archivo `JSON`, donde el argumento corresponde al nombre del archivo.\n",
    "* Se emplea el método `.to_sql()` para guardar el archivo `DB`, realizando una conexión al archivo `SQL` que contiene la base de datos por medio del método `.connect()` de **SQLite**."
   ]
  },
  {
   "cell_type": "code",
   "execution_count": 9,
   "metadata": {},
   "outputs": [],
   "source": [
    "#Guardado del Archivo en formato CSV\n",
    "#Compras_df.to_csv('./Datos/Compras_df.csv')\n",
    "\n",
    "#Guardado del Archivo en formato JSON\n",
    "#Compras_df.to_json('./Datos/Compras_df.json')\n",
    "\n",
    "#Agregación al Archivo SQL en formato DB\n",
    "#Compras_df.to_sql('Compras', sqlite3.connect('./Datos/Compras_df.db'))"
   ]
  },
  {
   "cell_type": "markdown",
   "metadata": {},
   "source": [
    "<div class=\"alert alert-block alert-success\">\n",
    "<b>.: Fin del Subtema :.</b>\n",
    "</div>\n",
    "\n",
    "***Liga de aceso al siguiente Subtema:*** \n",
    "<br>[c. Operaciones en el DataFrame Parte 1](c.%20Operaciones%20en%20el%20DataFrame%20Parte%201.ipynb)"
   ]
  }
 ],
 "metadata": {
  "kernelspec": {
   "display_name": "Python 3 (ipykernel)",
   "language": "python",
   "name": "python3"
  },
  "language_info": {
   "codemirror_mode": {
    "name": "ipython",
    "version": 3
   },
   "file_extension": ".py",
   "mimetype": "text/x-python",
   "name": "python",
   "nbconvert_exporter": "python",
   "pygments_lexer": "ipython3",
   "version": "3.9.7"
  }
 },
 "nbformat": 4,
 "nbformat_minor": 2
}
