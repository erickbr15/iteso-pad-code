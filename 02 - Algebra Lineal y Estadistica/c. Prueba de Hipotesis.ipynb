{
 "cells": [
  {
   "cell_type": "markdown",
   "metadata": {},
   "source": [
    "<div class=\"alert alert-block alert-info\">\n",
    "<img src=\"./Imagenes/ITESO_Logo.png\" style=\"width:500px;height:142px;\" title=\"Logo ITESO\">\n",
    "<br><font face = \"Times New Roman\" size = \"6\"><b><center>Maestría en Sistemas Computacionales</center></b></font>\n",
    "<br><font face = \"Times New Roman\" size = \"5\"><b><center>Programación para Análisis de Datos</center></b></font>\n",
    "\n",
    "<b><br><font face = \"Times New Roman\" size = \"4\"><center>Unidad 2: Conceptos Generales</center></font>\n",
    "<font face = \"Times New Roman\" size = \"4\"><center>Tema 2.5: Hipótesis e Inferencia</center></font>\n",
    "<font face = \"Times New Roman\" size = \"4\"><center>Subtema c: Prueba de Hipótesis</center></font></b>\n",
    "</div>"
   ]
  },
  {
   "cell_type": "markdown",
   "metadata": {},
   "source": [
    "## PRUEBA DE HIPÓTESIS\n",
    "\n",
    "Una ***Prueba de Hipótesis*** es una regla que especifica el momento en el que se puede aceptar o rechazar una afirmación sobre una población dependiendo de la evidencia proporcionada por una muestra de datos.\n",
    "\n",
    "Una ***Prueba de Hipótesis*** examina dos hipótesis opuestas sobre una población: \n",
    "\n",
    "1. La Hipótesis Nula: Es la afirmación que se está comprobando, normalmente es una afirmación de \"sin efecto\" o \"sin diferencia\". \n",
    "2. La Hipótesis Alternativa: Es la afirmación que se desea ser capaz de concluir que es verdadera basándose en la evidencia proporcionada por los datos de la muestra.\n",
    "\n",
    "Basándose en los datos de la muestra, la prueba determina cuando rechazar la hipótesis nula. Se utiliza un *valor-p*, para realizar esa determinación. Si el *valor-p* es menor que el nivel de confianza (conocido como ***α*** o ***alfa***), entonces se puede rechazar la hipótesis nula. Un valor común para ***α*** es 0.05, que representa el 5% de desviación.\n",
    "\n",
    "Para implementaciones de la ***Prueba de Hipótesis*** en **Python** se empleará la librería **SciPy**.\n",
    "\n",
    "#### La Librería SciPy\n",
    "<br>\n",
    "<img src=\"./Imagenes/SciPy_logo.png\" style=\"width:296px;height:120px;\" class=\"center\">\n",
    "<br>\n",
    "\n",
    "**SciPy** es una librería con modelos de matemáticas, ciencias e ingeniería que pueden ser implementados en **Python**. Se importarán elementos por medio de la función `from scipy.stats import` indicando la función específica a ser utilizada. Adicionalmente, se emplearán ***Vectores*** de datos aleatorios generados con **NumPy**.\n",
    "\n",
    "La documentación de **SciPy** se puede encontrar a través [de esta liga](https://www.scipy.org). \n",
    "\n",
    "#### Prueba T-Test con Distribución Estudiante (Student's t-test)\n",
    "La prueba T de Estudiante (Student's t-test) cuantifica la diferencia entre la media de dos grupos de datos independientes. \n",
    "\n",
    "Como primer ejemplo, se generarán dos vectores con 100 datos aleatorios cada uno empleando el método `.random.randn()` de **NumPy**, el cual genera valores aleatorios con ***Distribución Normal*** (valores entre -1 y 1). Posteriormente se aplicará la prueba *Student's t-test* empleando la función `ttest_ind()` de **SciPy**, la cual recibe los dos vectores de datos y regresa dos valores:\n",
    "\n",
    "* statistic: Es el estadístico basado en la prueba T-Test.\n",
    "* pvalue: El valor-p para comparativo que indica la diferencia porcentual respecto a la media.\n",
    "\n",
    "La ***Hipótesis Nula*** plantea que el valor de la media de ambas series de datos son iguales (con una diferencia marcada por ***α***).\n",
    "\n",
    "La documentación de la función `ttest_ind()` se detalla en [esta liga](https://docs.scipy.org/doc/scipy/reference/generated/scipy.stats.ttest_ind.html). "
   ]
  },
  {
   "cell_type": "code",
   "execution_count": 1,
   "metadata": {},
   "outputs": [
    {
     "name": "stdout",
     "output_type": "stream",
     "text": [
      "Set de Datos 1: media = 49.698, desviación estándar = 4.554\n",
      "Set de Datos 2: media = 50.759, desviación estándar = 5.262\n",
      "Valor p = 0.131\n",
      "Series con la misma Distribución (falla el rechazo de la Hipótesis Nula).\n"
     ]
    }
   ],
   "source": [
    "#Importación de librerías\n",
    "import numpy as np  \n",
    "from scipy.stats import ttest_ind        \n",
    "\n",
    "#Generación de dos series de datos Gaussianos\n",
    "datos1 = 5 * np.random.randn(100) + 50\n",
    "datos2 = 5 * np.random.randn(100) + 51\n",
    "\n",
    "#Comparación de las series de datos\n",
    "stat, p = ttest_ind(datos1, datos2)     \n",
    "\n",
    "#Interpretación\n",
    "print(\"Set de Datos 1: media = %.3f, desviación estándar = %.3f\" % (np.mean(datos1), np.std(datos1)))\n",
    "print(\"Set de Datos 2: media = %.3f, desviación estándar = %.3f\" % (np.mean(datos2), np.std(datos2)))\n",
    "print(\"Valor p = %.3f\" % p)\n",
    "\n",
    "#Prueba de la Hipótesis para alpha = 0.05 (los valores de media son distintas por al menos 5%)\n",
    "alpha = 0.05\n",
    "if p <= alpha:\n",
    "    print(\"Series con distinta Distribución (se rechaza la Hipótesis Nula).\")\n",
    "else:\n",
    "    print(\"Series con la misma Distribución (falla el rechazo de la Hipótesis Nula).\")"
   ]
  },
  {
   "cell_type": "markdown",
   "metadata": {},
   "source": [
    "#### Prueba T-Test Relacionada con Distribución Estudiante (Paired Student's t-test)\n",
    "La prueba T Relacionada de Estudiante (Paired Student's t-test) cuantifica la diferencia entre la media de dos grupos de datos dependientes.\n",
    "\n",
    "Ahora se generarán dos nuevos vectores con 100 datos aleatorios cada uno empleando el método `.random.randn()` de **NumPy**, el cual genera valores aleatorios con ***Distribución Normal*** (valores entre -1 y 1). Posteriormente se aplicará la prueba *Paired Student's t-test* empleando la función `ttest_rel()` de **SciPy**.\n",
    "\n",
    "La ***Hipótesis Nula*** plantea que el valor de la media de ambas series de datos son iguales (con una diferencia marcada por ***α***).\n",
    "\n",
    "La documentación de la función `ttest_rel()` se detalla en [esta liga](https://docs.scipy.org/doc/scipy/reference/generated/scipy.stats.ttest_rel.html). "
   ]
  },
  {
   "cell_type": "code",
   "execution_count": 2,
   "metadata": {},
   "outputs": [
    {
     "name": "stdout",
     "output_type": "stream",
     "text": [
      "Set de Datos 1: media = 50.294, desviación estándar = 4.458\n",
      "Set de Datos 2: media = 50.579, desviación estándar = 5.136\n",
      "Valor p = 0.690\n",
      "Series con la misma Distribución (falla el rechazo de la Hipótesis Nula).\n"
     ]
    }
   ],
   "source": [
    "#Importación de librerías\n",
    "from scipy.stats import ttest_rel        \n",
    "\n",
    "#Generación de dos series de datos Gaussianos\n",
    "datos1 = 5 * np.random.randn(100) + 50\n",
    "datos2 = 5 * np.random.randn(100) + 51\n",
    "\n",
    "#Comparación de las series de datos\n",
    "stat, p = ttest_rel(datos1, datos2)\n",
    "\n",
    "#Interpretación\n",
    "print(\"Set de Datos 1: media = %.3f, desviación estándar = %.3f\" % (np.mean(datos1), np.std(datos1)))\n",
    "print(\"Set de Datos 2: media = %.3f, desviación estándar = %.3f\" % (np.mean(datos2), np.std(datos2)))\n",
    "print(\"Valor p = %.3f\" % p)\n",
    "\n",
    "#Prueba de la Hipótesis para alpha = 0.05 (los valores de media son distintas por al menos 5%)\n",
    "alpha = 0.05\n",
    "if p <= alpha:\n",
    "    print(\"Series con distinta Distribución (se rechaza la Hipótesis Nula).\")\n",
    "else:\n",
    "    print(\"Series con la misma Distribución (falla el rechazo de la Hipótesis Nula).\")"
   ]
  },
  {
   "cell_type": "markdown",
   "metadata": {},
   "source": [
    "#### Prueba de Varianza (Analysis of Variance Test, ANOVA)\n",
    "La prueba ANOVA (Analysis of Variance Test) compara la similitud o diferencia entre el valor de la media de dos o más grupos de datos.\n",
    "\n",
    "Se generarán tres nuevos vectores con 100 datos aleatorios cada uno empleando el método `.random.randn()` de **NumPy**, el cual genera valores aleatorios con ***Distribución Normal*** (valores entre -1 y 1). Posteriormente se aplicará la prueba *Analysis of Variance Test* empleando la función `f_oneway()` de **SciPy**.\n",
    "\n",
    "La ***Hipótesis Nula*** plantea que el valor de la media de ambas series de datos son iguales (con una diferencia marcada por ***α***).\n",
    "\n",
    "La documentación de la función `f_oneway()` se detalla en [esta liga](https://docs.scipy.org/doc/scipy/reference/generated/scipy.stats.f_oneway.html)."
   ]
  },
  {
   "cell_type": "code",
   "execution_count": 3,
   "metadata": {},
   "outputs": [
    {
     "name": "stdout",
     "output_type": "stream",
     "text": [
      "Set de Datos 1: media = 50.704, desviación estándar = 4.594\n",
      "Set de Datos 2: media = 51.116, desviación estándar = 4.863\n",
      "Set de Datos 3: media = 51.714, desviación estándar = 4.988\n",
      "Valor p = 0.335\n",
      "Series con la misma Distribución (falla el rechazo de la Hipótesis Nula).\n"
     ]
    }
   ],
   "source": [
    "#Importación de librerías\n",
    "from scipy.stats import f_oneway         \n",
    "\n",
    "#Generación de tres series de datos Gaussianos\n",
    "datos1 = 5 * np.random.randn(100) + 50\n",
    "datos2 = 5 * np.random.randn(100) + 51\n",
    "datos3 = 5 * np.random.randn(100) + 52\n",
    "\n",
    "#Comparación de las series de datos\n",
    "stat, p = f_oneway(datos1, datos2, datos3)\n",
    "\n",
    "#Interpretación\n",
    "print(\"Set de Datos 1: media = %.3f, desviación estándar = %.3f\" % (np.mean(datos1), np.std(datos1)))\n",
    "print(\"Set de Datos 2: media = %.3f, desviación estándar = %.3f\" % (np.mean(datos2), np.std(datos2)))\n",
    "print(\"Set de Datos 3: media = %.3f, desviación estándar = %.3f\" % (np.mean(datos3), np.std(datos3)))\n",
    "print(\"Valor p = %.3f\" % p)\n",
    "\n",
    "#Prueba de la Hipótesis para alpha = 0.05 (los valores de media son distintas por al menos 5%)\n",
    "alpha = 0.05\n",
    "if p <= alpha:\n",
    "    print(\"Series con distinta Distribución (se rechaza la Hipótesis Nula).\")\n",
    "else:\n",
    "    print(\"Series con la misma Distribución (falla el rechazo de la Hipótesis Nula).\")"
   ]
  },
  {
   "cell_type": "markdown",
   "metadata": {},
   "source": [
    "<div class=\"alert alert-block alert-success\">\n",
    "<b>.: Fin del Subtema :.</b>\n",
    "</div>\n",
    "\n",
    "***Liga de aceso al siguiente Subtema:*** \n",
    "<br>[d. Ejemplo en Imágenes](d.%20Ejemplo%20en%20Imagenes.ipynb)"
   ]
  }
 ],
 "metadata": {
  "kernelspec": {
   "display_name": "Python 3",
   "language": "python",
   "name": "python3"
  },
  "language_info": {
   "codemirror_mode": {
    "name": "ipython",
    "version": 3
   },
   "file_extension": ".py",
   "mimetype": "text/x-python",
   "name": "python",
   "nbconvert_exporter": "python",
   "pygments_lexer": "ipython3",
   "version": "3.8.3"
  }
 },
 "nbformat": 4,
 "nbformat_minor": 2
}
