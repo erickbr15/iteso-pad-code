{
 "cells": [
  {
   "cell_type": "markdown",
   "metadata": {},
   "source": [
    "<div class=\"alert alert-block alert-info\">\n",
    "<img src=\"./Imagenes/ITESO_Logo.png\" style=\"width:500px;height:142px;\" title=\"Logo ITESO\">\n",
    "<br><font face = \"Times New Roman\" size = \"6\"><b><center>Maestría en Sistemas Computacionales</center></b></font>\n",
    "<br><font face = \"Times New Roman\" size = \"5\"><b><center>Programación para Análisis de Datos</center></b></font>\n",
    "\n",
    "<b><br><font face = \"Times New Roman\" size = \"4\"><center>Unidad 2: Conceptos Generales</center></font>\n",
    "<font face = \"Times New Roman\" size = \"4\"><center>Tema 2.4: Conceptos de Probabilidad y Estadística</center></font>\n",
    "<font face = \"Times New Roman\" size = \"4\"><center>Subtema b: Estadística</center></font></b>\n",
    "</div>"
   ]
  },
  {
   "cell_type": "markdown",
   "metadata": {},
   "source": [
    "## ESTADÍSTICA\n",
    "\n",
    "Para el uso de operaciones de ***Estadística Descriptiva*** en **Python** se empleará la librería **NumPy**.\n",
    "\n",
    "Inicialmente se generará un ***vector*** empleando el método `.random.normal(a,b,c)` de **NumPy**, el cual genera un vector con *valores aleatorios* con *distribución normal*, para ello emplea tres argumentos de la siguiente manera:\n",
    "\n",
    "* El argumento `a` indica el valor de la *media* de los elementos.\n",
    "* El argumento `b` indica el valor de la *desviación estándar* de los elementos.\n",
    "* El argumento `c` indica la cantidad de elementos a generar.\n",
    "\n",
    "En el ejemplo se genera aleatoriamente un vector de 10 elementos cuyos valores de media sea 5 y una desviación estándar de 0.5, a partir de este vector se emplearán los siguientes métodos para la determinación de las funciones estadísticas básicas empleando la librería **NumPy**:\n",
    "\n",
    "* El método `.min()` determina el valor mínimo en el ***vector***.\n",
    "* El método `.max()` determina el valor máximo en el ***vector***.\n",
    "* El método `.mean()` determina el valor de la media en el ***vector***.\n",
    "* El método `.median()` determina el valor de la mediana en el ***vector***.\n",
    "* El método `.var()` determina el valor de la varianza en el ***vector***.\n",
    "* El método `.std()` determina el valor de la desviación estándar en el ***vector***."
   ]
  },
  {
   "cell_type": "code",
   "execution_count": 1,
   "metadata": {},
   "outputs": [
    {
     "name": "stdout",
     "output_type": "stream",
     "text": [
      "El vector es:\n",
      " [5.01400932 4.92977441 5.69416295 4.96074588 5.88377375 4.1887682\n",
      " 5.15673137 4.91552711 4.61207379 5.02717904 4.87034933]\n",
      "\n",
      "El valor mínimo en el vector es: 4.189\n",
      "El valor máximo en el vector es: 5.884\n",
      "El valor de la media en el vector es: 5.023\n",
      "El valor de la mediana en el vector es: 4.961\n",
      "El valor de la varianza en el vector es: 0.193\n",
      "El valor de la desviación estándar en el vector es: 0.439\n"
     ]
    }
   ],
   "source": [
    "#Importación de Librerías\n",
    "import numpy as np                       \n",
    "\n",
    "#Definición de Vectores\n",
    "Vec = np.random.normal(5, 0.5, 11)         \n",
    "\n",
    "#Funciones estadísticas básicas \n",
    "min = np.min(Vec)                          \n",
    "max = np.max(Vec)                          \n",
    "mean = np.mean(Vec)                        \n",
    "median = np.median(Vec)                    \n",
    "var = np.var(Vec)                          \n",
    "std = np.std(Vec)                          \n",
    "\n",
    "#Impresión de los resultados\n",
    "print(\"El vector es:\\n\", Vec)\n",
    "print(\"\\nEl valor mínimo en el vector es: %.3f\" % min)\n",
    "print(\"El valor máximo en el vector es: %.3f\" % max)\n",
    "print(\"El valor de la media en el vector es: %.3f\" % mean)\n",
    "print(\"El valor de la mediana en el vector es: %.3f\" % median)\n",
    "print(\"El valor de la varianza en el vector es: %.3f\" % var)\n",
    "print(\"El valor de la desviación estándar en el vector es: %.3f\" % std)"
   ]
  },
  {
   "cell_type": "markdown",
   "metadata": {},
   "source": [
    "Ahora se realizará un gráfico de los valores generados, para ello se empleará la librería **Matplotlib**.\n",
    "\n",
    "Se empleará el método `.plot(a,b,c,d)` indicando cuatro argumentos que definen:\n",
    "\n",
    "* El argumento `a` indica el vector de valores que se va a graficar.\n",
    "* El argumento `b` indica el color de la línea a ser graficada.\n",
    "* El argumento `c` indica el tipo de marcador a emplearse.\n",
    "* El argumento `d` indica el tipo de línea a emplearse.\n",
    "\n",
    "La descripción detallada de los parámetros del método `.plot()` puede consultarse a través [de esta liga](\n",
    "https://matplotlib.org/3.3.1/api/_as_gen/matplotlib.pyplot.plot.html)."
   ]
  },
  {
   "cell_type": "code",
   "execution_count": 2,
   "metadata": {
    "scrolled": true
   },
   "outputs": [
    {
     "data": {
      "image/png": "[encoded data removed]",
      "text/plain": [
       "<Figure size 432x288 with 1 Axes>"
      ]
     },
     "metadata": {
      "needs_background": "light"
     },
     "output_type": "display_data"
    }
   ],
   "source": [
    "#Importación de Librerías\n",
    "from matplotlib import pyplot as plt\n",
    "\n",
    "#Creación de una Gráfica de Líneas\n",
    "plt.plot(Vec, color='blue', marker='o', linestyle='solid') \n",
    "\n",
    "#Agregar Título y Etiquetas\n",
    "plt.title(\"Vector de Valores Aleatorios\")\n",
    "plt.xlabel(\"Posición en el Vector\")\n",
    "plt.ylabel(\"Valor Aleatorio\") \n",
    "plt.show()"
   ]
  },
  {
   "cell_type": "markdown",
   "metadata": {},
   "source": [
    "<div class=\"alert alert-block alert-success\">\n",
    "<b>.: Fin del Subtema :.</b>\n",
    "</div>\n",
    "\n",
    "***Liga de aceso al siguiente Subtema:*** \n",
    "<br>[c. Prueba de Hipótesis](c.%20Prueba%20de%20Hipotesis.ipynb)"
   ]
  }
 ],
 "metadata": {
  "kernelspec": {
   "display_name": "Python 3",
   "language": "python",
   "name": "python3"
  },
  "language_info": {
   "codemirror_mode": {
    "name": "ipython",
    "version": 3
   },
   "file_extension": ".py",
   "mimetype": "text/x-python",
   "name": "python",
   "nbconvert_exporter": "python",
   "pygments_lexer": "ipython3",
   "version": "3.8.3"
  }
 },
 "nbformat": 4,
 "nbformat_minor": 2
}
