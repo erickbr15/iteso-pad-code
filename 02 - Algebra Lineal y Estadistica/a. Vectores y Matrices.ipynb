{
 "cells": [
  {
   "cell_type": "markdown",
   "metadata": {},
   "source": [
    "<div class=\"alert alert-block alert-info\">\n",
    "<img src=\"./Imagenes/ITESO_Logo.png\" style=\"width:500px;height:142px;\" title=\"Logo ITESO\">\n",
    "<br><font face = \"Times New Roman\" size = \"6\"><b><center>Maestría en Sistemas Computacionales</center></b></font>\n",
    "<br><font face = \"Times New Roman\" size = \"5\"><b><center>Programación para Análisis de Datos</center></b></font>\n",
    "\n",
    "<b><br><font face = \"Times New Roman\" size = \"4\"><center>Unidad 2: Conceptos Generales</center></font>\n",
    "<font face = \"Times New Roman\" size = \"4\"><center>Tema 2.3: Conceptos de Álgebra Lineal</center></font>\n",
    "<font face = \"Times New Roman\" size = \"4\"><center>Subtema a: Vectores y Matrices</center></font></b>\n",
    "</div>"
   ]
  },
  {
   "cell_type": "markdown",
   "metadata": {},
   "source": [
    "## VECTORES Y MATRICES\n",
    "\n",
    "Para el uso de operaciones vectoriales y matriciales en **Python** se empleará la librería **NumPy**.\n",
    "\n",
    "#### La Librería NumPy\n",
    "<br>\n",
    "<img src=\"./Imagenes/NumPy_logo.png\" style=\"width:341px;height:120px;\" class=\"center\">\n",
    "<br>\n",
    "\n",
    "**NumPy** es una librería de **Python** que le agrega mayor soporte para operaciones con vectores y matrices, constituyendo una biblioteca de funciones matemáticas de alto nivel para operar con ellos. \n",
    "\n",
    "La documentación de **NumPy** se puede encontrar a través [de esta liga](https://numpy.org).\n",
    "\n",
    "Para importar la librería se empleará la función `import numpy as np`, a partir de ello se podrá hacer uso de los distintos métodos de `numpy` invocándolo como `np`. \n",
    "\n",
    "Como primer ejemplo se generarán dos ***vectores*** que contengan 3 elementos cada uno empleando el método `.array()` el cual recibe los valores del vector en su argumento empleando corchetes `[]` y separados por comas `,`. A partir de esos vectores se realizarán varias operaciones:"
   ]
  },
  {
   "cell_type": "code",
   "execution_count": 1,
   "metadata": {
    "scrolled": false
   },
   "outputs": [
    {
     "name": "stdout",
     "output_type": "stream",
     "text": [
      "El vector A es: [1 2 3]\n",
      "El vector B es: [4 5 6]\n",
      "La suma de A+B es: [5 7 9]\n",
      "La multiplicación de A por el escalar 5 es: [ 5 10 15]\n"
     ]
    }
   ],
   "source": [
    "#Importación de Librerías\n",
    "import numpy as np                      \n",
    "\n",
    "#Definición de Vectores \n",
    "A = np.array([1, 2, 3])                   \n",
    "B = np.array([4, 5, 6])                    \n",
    "\n",
    "#Operaciones con Vectores\n",
    "C = A + B                                   \n",
    "D = 5 * A                                   \n",
    "\n",
    "#Impresión de los resultados\n",
    "print(\"El vector A es:\", A)\n",
    "print(\"El vector B es:\", B)\n",
    "print(\"La suma de A+B es:\", C)\n",
    "print(\"La multiplicación de A por el escalar 5 es:\", D)"
   ]
  },
  {
   "cell_type": "markdown",
   "metadata": {},
   "source": [
    "Ahora se generarán tres ***matrices*** de distintos tamaños:\n",
    "\n",
    "* ***Matriz*** A de 2x3.\n",
    "* ***Matriz*** B de 3x2.\n",
    "* ***Matriz*** C de 2x2.\n",
    "\n",
    "De manera similar a los ***vectores***, la creación de ***matrices*** se realiza con el método `.array()` el cual recibe los valores de la matriz en su argumento empleando corchetes `[]` para cada renglón, y separados por comas `,`. \n",
    "\n",
    "Se realizará la operación de multiplicación de ***matrices*** a través del método `.matmul()` de **NumPy**, el cual recibe en su argumento los elementos que se multiplicarán:"
   ]
  },
  {
   "cell_type": "code",
   "execution_count": 2,
   "metadata": {},
   "outputs": [
    {
     "name": "stdout",
     "output_type": "stream",
     "text": [
      "La matriz A es:\n",
      " [[1 2 3]\n",
      " [4 5 6]]\n",
      "\n",
      "La matriz B es:\n",
      " [[1 2]\n",
      " [3 4]\n",
      " [5 6]]\n",
      "\n",
      "La matriz C es:\n",
      " [[-1 -2]\n",
      " [ 0 -9]]\n",
      "\n",
      "La multiplicación AxB es:\n",
      " [[22 28]\n",
      " [49 64]]\n",
      "\n",
      "La multiplicación BxC es:\n",
      " [[ -1 -20]\n",
      " [ -3 -42]\n",
      " [ -5 -64]]\n"
     ]
    }
   ],
   "source": [
    "#Definición de Matrices\n",
    "A = np.array([[1, 2, 3],[4, 5, 6]])        \n",
    "B = np.array([[1, 2],[3, 4],[5,6]])        \n",
    "C = np.array([[-1, -2],[0, -9]])           \n",
    "\n",
    "#Operaciones con Matrices\n",
    "D = np.matmul(A,B)                         \n",
    "E = np.matmul(B,C)                         \n",
    "#F = np.matmul(A,C)                         \n",
    "\n",
    "#Impresión de los resultados\n",
    "print(\"La matriz A es:\\n\", A)\n",
    "print(\"\\nLa matriz B es:\\n\", B)\n",
    "print(\"\\nLa matriz C es:\\n\", C)\n",
    "print(\"\\nLa multiplicación AxB es:\\n\", D)\n",
    "print(\"\\nLa multiplicación BxC es:\\n\", E)"
   ]
  },
  {
   "cell_type": "markdown",
   "metadata": {},
   "source": [
    "<div class=\"alert alert-block alert-success\">\n",
    "<b>.: Fin del Subtema :.</b>\n",
    "</div>\n",
    "\n",
    "***Liga de aceso al siguiente Subtema:*** \n",
    "<br>[b. Estadística](b.%20Estadistica.ipynb)"
   ]
  }
 ],
 "metadata": {
  "kernelspec": {
   "display_name": "Python 3",
   "language": "python",
   "name": "python3"
  },
  "language_info": {
   "codemirror_mode": {
    "name": "ipython",
    "version": 3
   },
   "file_extension": ".py",
   "mimetype": "text/x-python",
   "name": "python",
   "nbconvert_exporter": "python",
   "pygments_lexer": "ipython3",
   "version": "3.8.3"
  }
 },
 "nbformat": 4,
 "nbformat_minor": 2
}
